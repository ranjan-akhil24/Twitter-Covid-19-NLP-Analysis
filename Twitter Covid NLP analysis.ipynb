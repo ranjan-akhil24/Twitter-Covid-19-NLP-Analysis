{
 "cells": [
  {
   "cell_type": "code",
   "execution_count": 1,
   "metadata": {},
   "outputs": [
    {
     "name": "stderr",
     "output_type": "stream",
     "text": [
      "[nltk_data] Downloading package wordnet to\n",
      "[nltk_data]     /Users/akhilranjan/nltk_data...\n",
      "[nltk_data]   Unzipping corpora/wordnet.zip.\n"
     ]
    },
    {
     "data": {
      "text/plain": [
       "True"
      ]
     },
     "execution_count": 1,
     "metadata": {},
     "output_type": "execute_result"
    }
   ],
   "source": [
    "import re, string, gensim, nltk\n",
    "import pandas as pd\n",
    "import numpy as np\n",
    "\n",
    "from gensim.utils import simple_preprocess\n",
    "from gensim.parsing.preprocessing import STOPWORDS\n",
    "from nltk.stem import WordNetLemmatizer, SnowballStemmer\n",
    "from nltk.stem.porter import *\n",
    "\n",
    "np.random.seed(1234)\n",
    "\n",
    "nltk.download('wordnet')"
   ]
  },
  {
   "cell_type": "code",
   "execution_count": 2,
   "metadata": {},
   "outputs": [],
   "source": [
    "def preprocess_tweet_text(tweets):\n",
    "    clean_text = ['']#*len(tweets)\n",
    "    for tweet in tweets:\n",
    "        # lowercase text\n",
    "        tweet = tweet.lower()\n",
    "        \n",
    "        # remove urls\n",
    "        tweet = re.sub(r\"http\\S+|www\\S+|https\\S+\", '', tweet, flags=re.MULTILINE)\n",
    "        \n",
    "        # remove user @ references and '#' from tweet\n",
    "        tweet = re.sub(r'\\@\\w+|\\#','', tweet)\n",
    "\n",
    "        # remove punctuations\n",
    "        tweet = tweet.translate(str.maketrans('', '', string.punctuation))\n",
    "        \n",
    "        # remove newline characters and replace with a space\n",
    "        tweet = tweet.replace('\\n',' ')\n",
    "        \n",
    "        #print (tweet)\n",
    "        #print ('-----------------------------------------------------')\n",
    "        \n",
    "        clean_text.append(tweet)\n",
    "        \n",
    "    # lazy way of returning just the tweets without the first placeholder element\n",
    "    return clean_text[1:]\n",
    "\n",
    "stemmer = SnowballStemmer('english')\n",
    "def lemmatize_stemming(text):\n",
    "    return stemmer.stem(WordNetLemmatizer().lemmatize(text, pos='v'))\n",
    "def preprocess(text):\n",
    "    result = []\n",
    "    for token in gensim.utils.simple_preprocess(text):\n",
    "        if token not in gensim.parsing.preprocessing.STOPWORDS and len(token) > 3:\n",
    "            result.append(lemmatize_stemming(token))\n",
    "    return result"
   ]
  },
  {
   "cell_type": "code",
   "execution_count": 3,
   "metadata": {},
   "outputs": [],
   "source": [
    "data = pd.read_csv('tweets_15700.csv')"
   ]
  },
  {
   "cell_type": "code",
   "execution_count": 4,
   "metadata": {},
   "outputs": [],
   "source": [
    "clean_tweets = preprocess_tweet_text(data.text)"
   ]
  },
  {
   "cell_type": "code",
   "execution_count": 5,
   "metadata": {},
   "outputs": [
    {
     "name": "stdout",
     "output_type": "stream",
     "text": [
      "original document: \n",
      "['sounds', 'about', 'right', 'fuck', 'you', '', '', 'this', 'won’t', 'make', 'up', 'for', 'your', 'covid', 'and', 'flag', 'response', 'in', 'the', 'eyes', 'of', 'the…', '']\n",
      "\n",
      "\n",
      " tokenized and lemmatized document: \n",
      "['sound', 'right', 'fuck', 'covid', 'flag', 'respons', 'eye']\n"
     ]
    }
   ],
   "source": [
    "doc_sample = clean_tweets[4310] # documents[documents['index'] == 4310].values[0][0]\n",
    "print('original document: ')\n",
    "words = []\n",
    "for word in doc_sample.split(' '):\n",
    "    words.append(word)\n",
    "print(words)\n",
    "print('\\n\\n tokenized and lemmatized document: ')\n",
    "print(preprocess(doc_sample))"
   ]
  },
  {
   "cell_type": "code",
   "execution_count": 6,
   "metadata": {},
   "outputs": [],
   "source": [
    "processed_docs = list(map(preprocess, clean_tweets))"
   ]
  },
  {
   "cell_type": "code",
   "execution_count": 7,
   "metadata": {},
   "outputs": [
    {
     "name": "stdout",
     "output_type": "stream",
     "text": [
      "0 covid\n",
      "1 favorit\n",
      "2 life\n",
      "3 outfit\n",
      "4 pajama\n",
      "5 stick\n",
      "6 sure\n",
      "7 time\n",
      "8 america\n",
      "9 asian\n",
      "10 hispan\n"
     ]
    }
   ],
   "source": [
    "# Create a dictionary from ‘processed_docs’ containing the number of times a word appears in the training set.\n",
    "\n",
    "dictionary = gensim.corpora.Dictionary(processed_docs)\n",
    "count = 0\n",
    "for k, v in dictionary.iteritems():\n",
    "    print(k, v)\n",
    "    count += 1\n",
    "    if count > 10:\n",
    "        break"
   ]
  },
  {
   "cell_type": "code",
   "execution_count": 8,
   "metadata": {},
   "outputs": [],
   "source": [
    "# Filter out tokens that appear in\n",
    "# + less than 15 documents (absolute number) or\n",
    "# + more than 0.5 documents (fraction of total corpus size, not absolute number).\n",
    "# + after the above two steps, keep only the first 100000 most frequent tokens.\n",
    "dictionary.filter_extremes(no_below=15, no_above=0.8, keep_n=100000)"
   ]
  },
  {
   "cell_type": "code",
   "execution_count": 9,
   "metadata": {},
   "outputs": [],
   "source": [
    "# For each document we create a dictionary reporting how many\n",
    "#  words and how many times those words appear. Save this to ‘bow_corpus’\n",
    "bow_corpus = [dictionary.doc2bow(doc) for doc in processed_docs]"
   ]
  },
  {
   "cell_type": "code",
   "execution_count": 10,
   "metadata": {},
   "outputs": [
    {
     "name": "stdout",
     "output_type": "stream",
     "text": [
      "Word 0 (\"covid\") appears 1 time.\n",
      "Word 45 (\"respons\") appears 1 time.\n",
      "Word 119 (\"fuck\") appears 1 time.\n",
      "Word 570 (\"right\") appears 1 time.\n",
      "Word 897 (\"eye\") appears 1 time.\n",
      "Word 954 (\"sound\") appears 1 time.\n"
     ]
    }
   ],
   "source": [
    "bow_doc_4310 = bow_corpus[4310]\n",
    "for i in range(len(bow_doc_4310)):\n",
    "    print(\"Word {} (\\\"{}\\\") appears {} time.\".format(bow_doc_4310[i][0], \n",
    "                                               dictionary[bow_doc_4310[i][0]], \n",
    "bow_doc_4310[i][1]))"
   ]
  },
  {
   "cell_type": "code",
   "execution_count": 11,
   "metadata": {},
   "outputs": [
    {
     "name": "stdout",
     "output_type": "stream",
     "text": [
      "[(0, 0.05028183055775455),\n",
      " (1, 0.4740378081631801),\n",
      " (2, 0.6476378544250909),\n",
      " (3, 0.4783237606213511),\n",
      " (4, 0.352890186160401)]\n"
     ]
    }
   ],
   "source": [
    "# Create tf-idf model object using models.TfidfModel on ‘bow_corpus’ and save it \n",
    "#  to ‘tfidf’, then apply transformation to the entire corpus and call it ‘corpus_tfidf’. \n",
    "#  Finally we preview TF-IDF scores for our first document.\n",
    "from gensim import corpora, models\n",
    "tfidf = models.TfidfModel(bow_corpus)\n",
    "corpus_tfidf = tfidf[bow_corpus]\n",
    "from pprint import pprint\n",
    "for doc in corpus_tfidf:\n",
    "    pprint(doc)\n",
    "    break"
   ]
  },
  {
   "cell_type": "code",
   "execution_count": 12,
   "metadata": {},
   "outputs": [],
   "source": [
    "# Train our lda model using gensim.models.LdaMulticore and save it to ‘lda_model’\n",
    "lda_model = gensim.models.LdaMulticore(bow_corpus, num_topics=3, id2word=dictionary, passes=2, workers=2)"
   ]
  },
  {
   "cell_type": "code",
   "execution_count": 13,
   "metadata": {},
   "outputs": [
    {
     "name": "stdout",
     "output_type": "stream",
     "text": [
      "Topic: 0 \n",
      "Words: 0.143*\"covid\" + 0.051*\"vaccin\" + 0.020*\"case\" + 0.015*\"peopl\" + 0.015*\"death\" + 0.010*\"think\" + 0.010*\"report\" + 0.009*\"coronavirus\" + 0.009*\"year\" + 0.007*\"die\"\n",
      "Topic: 1 \n",
      "Words: 0.088*\"covid\" + 0.019*\"like\" + 0.019*\"year\" + 0.014*\"corona\" + 0.012*\"coronavirus\" + 0.011*\"relief\" + 0.009*\"biden\" + 0.009*\"pandem\" + 0.009*\"vaccin\" + 0.009*\"vote\"\n",
      "Topic: 2 \n",
      "Words: 0.092*\"covid\" + 0.016*\"peopl\" + 0.010*\"say\" + 0.009*\"time\" + 0.008*\"test\" + 0.008*\"get\" + 0.008*\"thing\" + 0.008*\"know\" + 0.008*\"need\" + 0.007*\"mask\"\n"
     ]
    }
   ],
   "source": [
    "# For each topic, we will explore the words occuring in that topic and its relative weight.\n",
    "for idx, topic in lda_model.print_topics(-1):\n",
    "    print('Topic: {} \\nWords: {}'.format(idx, topic))"
   ]
  },
  {
   "cell_type": "code",
   "execution_count": 14,
   "metadata": {
    "scrolled": true
   },
   "outputs": [
    {
     "name": "stdout",
     "output_type": "stream",
     "text": [
      "Topic: 0 Word: 0.015*\"covid\" + 0.012*\"test\" + 0.011*\"corona\" + 0.009*\"coronavirus\" + 0.008*\"vaccin\" + 0.007*\"case\" + 0.007*\"report\" + 0.007*\"peopl\" + 0.007*\"time\" + 0.006*\"posit\"\n",
      "Topic: 1 Word: 0.039*\"covid\" + 0.013*\"vaccin\" + 0.010*\"year\" + 0.009*\"vote\" + 0.008*\"think\" + 0.007*\"peopl\" + 0.007*\"relief\" + 0.007*\"know\" + 0.006*\"case\" + 0.006*\"trump\"\n",
      "Topic: 2 Word: 0.019*\"vaccin\" + 0.015*\"covid\" + 0.009*\"peopl\" + 0.009*\"death\" + 0.008*\"like\" + 0.007*\"relief\" + 0.006*\"case\" + 0.006*\"go\" + 0.006*\"help\" + 0.006*\"coronavirus\"\n"
     ]
    }
   ],
   "source": [
    "# run lda using tf-idf\n",
    "lda_model_tfidf = gensim.models.LdaMulticore(corpus_tfidf, num_topics=3, id2word=dictionary, passes=2, workers=4)\n",
    "for idx, topic in lda_model_tfidf.print_topics(-1):\n",
    "    print('Topic: {} Word: {}'.format(idx, topic))"
   ]
  },
  {
   "cell_type": "code",
   "execution_count": 15,
   "metadata": {},
   "outputs": [
    {
     "data": {
      "text/plain": [
       "'Sounds about right... fuck you @tatereeves.\\n\\nThis won’t make up for your covid and flag response in the eyes of the… https://t.co/Jqv72SAuLo'"
      ]
     },
     "execution_count": 15,
     "metadata": {},
     "output_type": "execute_result"
    }
   ],
   "source": [
    "data.text[4310]"
   ]
  },
  {
   "cell_type": "code",
   "execution_count": 16,
   "metadata": {},
   "outputs": [
    {
     "data": {
      "text/plain": [
       "['sound', 'right', 'fuck', 'covid', 'flag', 'respons', 'eye']"
      ]
     },
     "execution_count": 16,
     "metadata": {},
     "output_type": "execute_result"
    }
   ],
   "source": [
    "processed_docs[4310]"
   ]
  },
  {
   "cell_type": "code",
   "execution_count": 17,
   "metadata": {},
   "outputs": [
    {
     "name": "stdout",
     "output_type": "stream",
     "text": [
      "\n",
      "Score: 0.4764672517776489\t \n",
      "Topic: 0.088*\"covid\" + 0.019*\"like\" + 0.019*\"year\" + 0.014*\"corona\" + 0.012*\"coronavirus\" + 0.011*\"relief\" + 0.009*\"biden\" + 0.009*\"pandem\" + 0.009*\"vaccin\" + 0.009*\"vote\"\n",
      "\n",
      "Score: 0.46907147765159607\t \n",
      "Topic: 0.143*\"covid\" + 0.051*\"vaccin\" + 0.020*\"case\" + 0.015*\"peopl\" + 0.015*\"death\" + 0.010*\"think\" + 0.010*\"report\" + 0.009*\"coronavirus\" + 0.009*\"year\" + 0.007*\"die\"\n",
      "\n",
      "Score: 0.0544612854719162\t \n",
      "Topic: 0.092*\"covid\" + 0.016*\"peopl\" + 0.010*\"say\" + 0.009*\"time\" + 0.008*\"test\" + 0.008*\"get\" + 0.008*\"thing\" + 0.008*\"know\" + 0.008*\"need\" + 0.007*\"mask\"\n"
     ]
    }
   ],
   "source": [
    "for index, score in sorted(lda_model[bow_corpus[4310]], key=lambda tup: -1*tup[1]):\n",
    "    print(\"\\nScore: {}\\t \\nTopic: {}\".format(score, lda_model.print_topic(index, 10)))"
   ]
  },
  {
   "cell_type": "code",
   "execution_count": 18,
   "metadata": {},
   "outputs": [
    {
     "data": {
      "text/plain": [
       "\"@LindenmuthWendi In these times of #COVID19, it seems my favorite outfit is  pajamas.  But I'm not sure I'd stick to that for life.\""
      ]
     },
     "execution_count": 18,
     "metadata": {},
     "output_type": "execute_result"
    }
   ],
   "source": [
    "data.text[0]"
   ]
  },
  {
   "cell_type": "code",
   "execution_count": 19,
   "metadata": {},
   "outputs": [],
   "source": [
    "data.insert(0,'dt_prob',0)\n",
    "data.insert(0,'topic_num',100)"
   ]
  },
  {
   "cell_type": "code",
   "execution_count": 20,
   "metadata": {},
   "outputs": [],
   "source": [
    "idx_counter = 0\n",
    "for t1, t2, t3 in sorted(lda_model_tfidf[bow_corpus], key=lambda tup: -1*tup[1]):\n",
    "    if (t1[1] > t2[1]) & (t1[1] > t3[1]):\n",
    "        #print(t1)\n",
    "        data.loc[idx_counter,'topic_num'] = t1[0]\n",
    "        data.loc[idx_counter,'dt_prob'] = t1[1]\n",
    "        idx_counter += 1\n",
    "    elif (t2[1] > t1[1]) & (t2[1] > t3[1]):\n",
    "        #print(t2)\n",
    "        data.loc[idx_counter,'topic_num'] = t2[0]\n",
    "        data.loc[idx_counter,'dt_prob'] = t2[1]\n",
    "        idx_counter += 1\n",
    "    elif (t3[1] > t1[1]) & (t3[1] > t2[1]):\n",
    "        #print(t3)\n",
    "        data.loc[idx_counter,'topic_num'] = t3[0]\n",
    "        data.loc[idx_counter,'dt_prob'] = t3[1]\n",
    "        idx_counter += 1\n",
    "    else:\n",
    "        #print('(-1, {})'.format(t1[1]))\n",
    "        data.loc[idx_counter,'topic_num'] = -1\n",
    "        data.loc[idx_counter,'dt_prob'] = t1[1]\n",
    "        idx_counter += 1\n",
    "    #print( max(t1, t2, t3))\n",
    "    #print('~~~~~~~~~~~~~~~')\n",
    "    #print(\"\\nScore: {}\\t \\nTopic: {}\".format(score, lda_model_tfidf.print_topic(index, 10)))"
   ]
  },
  {
   "cell_type": "code",
   "execution_count": 21,
   "metadata": {},
   "outputs": [
    {
     "data": {
      "text/plain": [
       " 1    6324\n",
       " 2    4615\n",
       " 0    4592\n",
       "-1     169\n",
       "Name: topic_num, dtype: int64"
      ]
     },
     "execution_count": 21,
     "metadata": {},
     "output_type": "execute_result"
    }
   ],
   "source": [
    "data.topic_num.value_counts()"
   ]
  },
  {
   "cell_type": "code",
   "execution_count": 22,
   "metadata": {},
   "outputs": [],
   "source": [
    "from nltk.sentiment import SentimentIntensityAnalyzer\n",
    "sia = SentimentIntensityAnalyzer()"
   ]
  },
  {
   "cell_type": "code",
   "execution_count": 23,
   "metadata": {},
   "outputs": [],
   "source": [
    "data.insert(2,'avg_sent_score',0)"
   ]
  },
  {
   "cell_type": "code",
   "execution_count": 24,
   "metadata": {},
   "outputs": [],
   "source": [
    "for doc_num in range(len(bow_corpus)):\n",
    "#     print('doc_num: {}'.format(doc_num))\n",
    "    doc = bow_corpus[doc_num]\n",
    "    avg_sent_score = 0\n",
    "    for i in range(len(doc)):\n",
    "#         print('\\tword {} (\\\"{}\\\") appears {} time'.format(doc[i][0],\n",
    "#                                                        dictionary[doc[i][0]],\n",
    "#                                                        doc[i][1]))\n",
    "#         print('{} sentiment score: {}'.format(dictionary[doc[i][0]], \n",
    "#                                              sia.polarity_scores(dictionary[doc[i][0]])['compound']))\n",
    "        avg_sent_score = avg_sent_score + sia.polarity_scores(dictionary[doc[i][0]])['compound']\n",
    "    if not len(doc)==0:\n",
    "        avg_sent_score = avg_sent_score/len(doc)\n",
    "        data.loc[doc_num,'avg_sent_score'] = avg_sent_score\n",
    "# compound is overall sentiment score"
   ]
  },
  {
   "cell_type": "code",
   "execution_count": 25,
   "metadata": {},
   "outputs": [
    {
     "data": {
      "text/html": [
       "<div>\n",
       "<style scoped>\n",
       "    .dataframe tbody tr th:only-of-type {\n",
       "        vertical-align: middle;\n",
       "    }\n",
       "\n",
       "    .dataframe tbody tr th {\n",
       "        vertical-align: top;\n",
       "    }\n",
       "\n",
       "    .dataframe thead th {\n",
       "        text-align: right;\n",
       "    }\n",
       "</style>\n",
       "<table border=\"1\" class=\"dataframe\">\n",
       "  <thead>\n",
       "    <tr style=\"text-align: right;\">\n",
       "      <th></th>\n",
       "      <th>count</th>\n",
       "      <th>mean</th>\n",
       "      <th>std</th>\n",
       "      <th>min</th>\n",
       "      <th>25%</th>\n",
       "      <th>50%</th>\n",
       "      <th>75%</th>\n",
       "      <th>max</th>\n",
       "    </tr>\n",
       "    <tr>\n",
       "      <th>topic_num</th>\n",
       "      <th></th>\n",
       "      <th></th>\n",
       "      <th></th>\n",
       "      <th></th>\n",
       "      <th></th>\n",
       "      <th></th>\n",
       "      <th></th>\n",
       "      <th></th>\n",
       "    </tr>\n",
       "  </thead>\n",
       "  <tbody>\n",
       "    <tr>\n",
       "      <th>-1</th>\n",
       "      <td>169.0</td>\n",
       "      <td>0.0000</td>\n",
       "      <td>0.0000</td>\n",
       "      <td>0.0000</td>\n",
       "      <td>0.0000</td>\n",
       "      <td>0.0</td>\n",
       "      <td>0.0000</td>\n",
       "      <td>0.0000</td>\n",
       "    </tr>\n",
       "    <tr>\n",
       "      <th>0</th>\n",
       "      <td>4592.0</td>\n",
       "      <td>0.0022</td>\n",
       "      <td>0.0841</td>\n",
       "      <td>-0.6908</td>\n",
       "      <td>0.0000</td>\n",
       "      <td>0.0</td>\n",
       "      <td>0.0305</td>\n",
       "      <td>0.5994</td>\n",
       "    </tr>\n",
       "    <tr>\n",
       "      <th>1</th>\n",
       "      <td>6324.0</td>\n",
       "      <td>0.0004</td>\n",
       "      <td>0.0757</td>\n",
       "      <td>-0.5574</td>\n",
       "      <td>0.0000</td>\n",
       "      <td>0.0</td>\n",
       "      <td>0.0000</td>\n",
       "      <td>0.6369</td>\n",
       "    </tr>\n",
       "    <tr>\n",
       "      <th>2</th>\n",
       "      <td>4615.0</td>\n",
       "      <td>0.0038</td>\n",
       "      <td>0.0820</td>\n",
       "      <td>-0.5719</td>\n",
       "      <td>-0.0155</td>\n",
       "      <td>0.0</td>\n",
       "      <td>0.0398</td>\n",
       "      <td>0.6249</td>\n",
       "    </tr>\n",
       "  </tbody>\n",
       "</table>\n",
       "</div>"
      ],
      "text/plain": [
       "            count    mean     std     min     25%  50%     75%     max\n",
       "topic_num                                                             \n",
       "-1          169.0  0.0000  0.0000  0.0000  0.0000  0.0  0.0000  0.0000\n",
       " 0         4592.0  0.0022  0.0841 -0.6908  0.0000  0.0  0.0305  0.5994\n",
       " 1         6324.0  0.0004  0.0757 -0.5574  0.0000  0.0  0.0000  0.6369\n",
       " 2         4615.0  0.0038  0.0820 -0.5719 -0.0155  0.0  0.0398  0.6249"
      ]
     },
     "execution_count": 25,
     "metadata": {},
     "output_type": "execute_result"
    }
   ],
   "source": [
    "np.round(data.groupby('topic_num').avg_sent_score.describe(),4)"
   ]
  },
  {
   "cell_type": "code",
   "execution_count": 26,
   "metadata": {},
   "outputs": [
    {
     "data": {
      "text/plain": [
       "topic_num\n",
       "-1    0.000000\n",
       " 0    0.002248\n",
       " 1    0.000413\n",
       " 2    0.003774\n",
       "Name: avg_sent_score, dtype: float64"
      ]
     },
     "execution_count": 26,
     "metadata": {},
     "output_type": "execute_result"
    }
   ],
   "source": [
    "data.groupby('topic_num').avg_sent_score.mean()"
   ]
  },
  {
   "cell_type": "code",
   "execution_count": 27,
   "metadata": {},
   "outputs": [],
   "source": [
    "# get top 30 words per topic and store in dataframe\n",
    "x = lda_model_tfidf.show_topics(num_topics=3, num_words=30, formatted=False)\n",
    "\n",
    "t0 = x[0][1]\n",
    "t1 = x[1][1]\n",
    "t2 = x[2][1]\n",
    "\n",
    "t0 = [[ i for i, j in t0 ], \n",
    "      [ j for i, j in t0 ]]\n",
    "\n",
    "t1 = [[ i for i, j in t1 ], \n",
    "      [ j for i, j in t1 ]]\n",
    "\n",
    "t2 = [[ i for i, j in t2 ], \n",
    "      [ j for i, j in t2 ]]\n",
    "\n",
    "top_words = pd.DataFrame([t0[0],t0[1], t1[0],t1[1], t2[0],t2[1]]).T\n",
    "top_words.columns = ['topic 0 words','topic 0 weights',\n",
    "                    'topic 1 words','topic 1 weights',\n",
    "                    'topic 2 words','topic 2 weights']"
   ]
  },
  {
   "cell_type": "code",
   "execution_count": 28,
   "metadata": {
    "scrolled": true
   },
   "outputs": [
    {
     "data": {
      "text/html": [
       "<div>\n",
       "<style scoped>\n",
       "    .dataframe tbody tr th:only-of-type {\n",
       "        vertical-align: middle;\n",
       "    }\n",
       "\n",
       "    .dataframe tbody tr th {\n",
       "        vertical-align: top;\n",
       "    }\n",
       "\n",
       "    .dataframe thead th {\n",
       "        text-align: right;\n",
       "    }\n",
       "</style>\n",
       "<table border=\"1\" class=\"dataframe\">\n",
       "  <thead>\n",
       "    <tr style=\"text-align: right;\">\n",
       "      <th></th>\n",
       "      <th>topic 0 words</th>\n",
       "      <th>topic 0 weights</th>\n",
       "      <th>topic 1 words</th>\n",
       "      <th>topic 1 weights</th>\n",
       "      <th>topic 2 words</th>\n",
       "      <th>topic 2 weights</th>\n",
       "    </tr>\n",
       "  </thead>\n",
       "  <tbody>\n",
       "    <tr>\n",
       "      <th>0</th>\n",
       "      <td>covid</td>\n",
       "      <td>0.015201</td>\n",
       "      <td>covid</td>\n",
       "      <td>0.038582</td>\n",
       "      <td>vaccin</td>\n",
       "      <td>0.018779</td>\n",
       "    </tr>\n",
       "    <tr>\n",
       "      <th>1</th>\n",
       "      <td>test</td>\n",
       "      <td>0.012464</td>\n",
       "      <td>vaccin</td>\n",
       "      <td>0.013352</td>\n",
       "      <td>covid</td>\n",
       "      <td>0.015438</td>\n",
       "    </tr>\n",
       "    <tr>\n",
       "      <th>2</th>\n",
       "      <td>corona</td>\n",
       "      <td>0.010928</td>\n",
       "      <td>year</td>\n",
       "      <td>0.010453</td>\n",
       "      <td>peopl</td>\n",
       "      <td>0.009208</td>\n",
       "    </tr>\n",
       "    <tr>\n",
       "      <th>3</th>\n",
       "      <td>coronavirus</td>\n",
       "      <td>0.008528</td>\n",
       "      <td>vote</td>\n",
       "      <td>0.008742</td>\n",
       "      <td>death</td>\n",
       "      <td>0.008695</td>\n",
       "    </tr>\n",
       "    <tr>\n",
       "      <th>4</th>\n",
       "      <td>vaccin</td>\n",
       "      <td>0.007767</td>\n",
       "      <td>think</td>\n",
       "      <td>0.008082</td>\n",
       "      <td>like</td>\n",
       "      <td>0.008078</td>\n",
       "    </tr>\n",
       "    <tr>\n",
       "      <th>5</th>\n",
       "      <td>case</td>\n",
       "      <td>0.00724</td>\n",
       "      <td>peopl</td>\n",
       "      <td>0.007285</td>\n",
       "      <td>relief</td>\n",
       "      <td>0.006605</td>\n",
       "    </tr>\n",
       "    <tr>\n",
       "      <th>6</th>\n",
       "      <td>report</td>\n",
       "      <td>0.007014</td>\n",
       "      <td>relief</td>\n",
       "      <td>0.006931</td>\n",
       "      <td>case</td>\n",
       "      <td>0.006496</td>\n",
       "    </tr>\n",
       "    <tr>\n",
       "      <th>7</th>\n",
       "      <td>peopl</td>\n",
       "      <td>0.006999</td>\n",
       "      <td>know</td>\n",
       "      <td>0.0066</td>\n",
       "      <td>go</td>\n",
       "      <td>0.005995</td>\n",
       "    </tr>\n",
       "    <tr>\n",
       "      <th>8</th>\n",
       "      <td>time</td>\n",
       "      <td>0.006641</td>\n",
       "      <td>case</td>\n",
       "      <td>0.006324</td>\n",
       "      <td>help</td>\n",
       "      <td>0.005594</td>\n",
       "    </tr>\n",
       "    <tr>\n",
       "      <th>9</th>\n",
       "      <td>posit</td>\n",
       "      <td>0.00629</td>\n",
       "      <td>trump</td>\n",
       "      <td>0.006144</td>\n",
       "      <td>coronavirus</td>\n",
       "      <td>0.005524</td>\n",
       "    </tr>\n",
       "    <tr>\n",
       "      <th>10</th>\n",
       "      <td>week</td>\n",
       "      <td>0.006093</td>\n",
       "      <td>issu</td>\n",
       "      <td>0.005954</td>\n",
       "      <td>say</td>\n",
       "      <td>0.005514</td>\n",
       "    </tr>\n",
       "    <tr>\n",
       "      <th>11</th>\n",
       "      <td>like</td>\n",
       "      <td>0.006074</td>\n",
       "      <td>push</td>\n",
       "      <td>0.005714</td>\n",
       "      <td>need</td>\n",
       "      <td>0.005228</td>\n",
       "    </tr>\n",
       "    <tr>\n",
       "      <th>12</th>\n",
       "      <td>pandem</td>\n",
       "      <td>0.006007</td>\n",
       "      <td>asid</td>\n",
       "      <td>0.0053</td>\n",
       "      <td>know</td>\n",
       "      <td>0.005155</td>\n",
       "    </tr>\n",
       "    <tr>\n",
       "      <th>13</th>\n",
       "      <td>year</td>\n",
       "      <td>0.005866</td>\n",
       "      <td>dont</td>\n",
       "      <td>0.005277</td>\n",
       "      <td>health</td>\n",
       "      <td>0.004976</td>\n",
       "    </tr>\n",
       "    <tr>\n",
       "      <th>14</th>\n",
       "      <td>polic</td>\n",
       "      <td>0.005306</td>\n",
       "      <td>dose</td>\n",
       "      <td>0.005106</td>\n",
       "      <td>spread</td>\n",
       "      <td>0.004793</td>\n",
       "    </tr>\n",
       "    <tr>\n",
       "      <th>15</th>\n",
       "      <td>die</td>\n",
       "      <td>0.005209</td>\n",
       "      <td>coronavirus</td>\n",
       "      <td>0.005081</td>\n",
       "      <td>take</td>\n",
       "      <td>0.004668</td>\n",
       "    </tr>\n",
       "    <tr>\n",
       "      <th>16</th>\n",
       "      <td>today</td>\n",
       "      <td>0.005206</td>\n",
       "      <td>obsess</td>\n",
       "      <td>0.004948</td>\n",
       "      <td>work</td>\n",
       "      <td>0.004558</td>\n",
       "    </tr>\n",
       "    <tr>\n",
       "      <th>17</th>\n",
       "      <td>go</td>\n",
       "      <td>0.004783</td>\n",
       "      <td>lockdown</td>\n",
       "      <td>0.004805</td>\n",
       "      <td>updat</td>\n",
       "      <td>0.004542</td>\n",
       "    </tr>\n",
       "    <tr>\n",
       "      <th>18</th>\n",
       "      <td>want</td>\n",
       "      <td>0.00469</td>\n",
       "      <td>republican</td>\n",
       "      <td>0.004658</td>\n",
       "      <td>astrazeneca</td>\n",
       "      <td>0.004281</td>\n",
       "    </tr>\n",
       "    <tr>\n",
       "      <th>19</th>\n",
       "      <td>get</td>\n",
       "      <td>0.004653</td>\n",
       "      <td>start</td>\n",
       "      <td>0.004642</td>\n",
       "      <td>credit</td>\n",
       "      <td>0.004263</td>\n",
       "    </tr>\n",
       "    <tr>\n",
       "      <th>20</th>\n",
       "      <td>school</td>\n",
       "      <td>0.004615</td>\n",
       "      <td>time</td>\n",
       "      <td>0.004449</td>\n",
       "      <td>state</td>\n",
       "      <td>0.004179</td>\n",
       "    </tr>\n",
       "    <tr>\n",
       "      <th>21</th>\n",
       "      <td>think</td>\n",
       "      <td>0.004561</td>\n",
       "      <td>check</td>\n",
       "      <td>0.004422</td>\n",
       "      <td>good</td>\n",
       "      <td>0.004103</td>\n",
       "    </tr>\n",
       "    <tr>\n",
       "      <th>22</th>\n",
       "      <td>support</td>\n",
       "      <td>0.004401</td>\n",
       "      <td>death</td>\n",
       "      <td>0.004412</td>\n",
       "      <td>presid</td>\n",
       "      <td>0.004022</td>\n",
       "    </tr>\n",
       "    <tr>\n",
       "      <th>23</th>\n",
       "      <td>say</td>\n",
       "      <td>0.004307</td>\n",
       "      <td>restrict</td>\n",
       "      <td>0.004017</td>\n",
       "      <td>report</td>\n",
       "      <td>0.003942</td>\n",
       "    </tr>\n",
       "    <tr>\n",
       "      <th>24</th>\n",
       "      <td>thank</td>\n",
       "      <td>0.003993</td>\n",
       "      <td>million</td>\n",
       "      <td>0.00397</td>\n",
       "      <td>fauci</td>\n",
       "      <td>0.00391</td>\n",
       "    </tr>\n",
       "    <tr>\n",
       "      <th>25</th>\n",
       "      <td>relief</td>\n",
       "      <td>0.003938</td>\n",
       "      <td>receiv</td>\n",
       "      <td>0.003938</td>\n",
       "      <td>follow</td>\n",
       "      <td>0.003881</td>\n",
       "    </tr>\n",
       "    <tr>\n",
       "      <th>26</th>\n",
       "      <td>see</td>\n",
       "      <td>0.00389</td>\n",
       "      <td>thing</td>\n",
       "      <td>0.003927</td>\n",
       "      <td>trump</td>\n",
       "      <td>0.003843</td>\n",
       "    </tr>\n",
       "    <tr>\n",
       "      <th>27</th>\n",
       "      <td>have</td>\n",
       "      <td>0.003826</td>\n",
       "      <td>say</td>\n",
       "      <td>0.003921</td>\n",
       "      <td>ireland</td>\n",
       "      <td>0.003807</td>\n",
       "    </tr>\n",
       "    <tr>\n",
       "      <th>28</th>\n",
       "      <td>look</td>\n",
       "      <td>0.003804</td>\n",
       "      <td>american</td>\n",
       "      <td>0.003889</td>\n",
       "      <td>corona</td>\n",
       "      <td>0.003735</td>\n",
       "    </tr>\n",
       "    <tr>\n",
       "      <th>29</th>\n",
       "      <td>right</td>\n",
       "      <td>0.003796</td>\n",
       "      <td>live</td>\n",
       "      <td>0.003854</td>\n",
       "      <td>stop</td>\n",
       "      <td>0.003637</td>\n",
       "    </tr>\n",
       "  </tbody>\n",
       "</table>\n",
       "</div>"
      ],
      "text/plain": [
       "   topic 0 words topic 0 weights topic 1 words topic 1 weights topic 2 words  \\\n",
       "0          covid        0.015201         covid        0.038582        vaccin   \n",
       "1           test        0.012464        vaccin        0.013352         covid   \n",
       "2         corona        0.010928          year        0.010453         peopl   \n",
       "3    coronavirus        0.008528          vote        0.008742         death   \n",
       "4         vaccin        0.007767         think        0.008082          like   \n",
       "5           case         0.00724         peopl        0.007285        relief   \n",
       "6         report        0.007014        relief        0.006931          case   \n",
       "7          peopl        0.006999          know          0.0066            go   \n",
       "8           time        0.006641          case        0.006324          help   \n",
       "9          posit         0.00629         trump        0.006144   coronavirus   \n",
       "10          week        0.006093          issu        0.005954           say   \n",
       "11          like        0.006074          push        0.005714          need   \n",
       "12        pandem        0.006007          asid          0.0053          know   \n",
       "13          year        0.005866          dont        0.005277        health   \n",
       "14         polic        0.005306          dose        0.005106        spread   \n",
       "15           die        0.005209   coronavirus        0.005081          take   \n",
       "16         today        0.005206        obsess        0.004948          work   \n",
       "17            go        0.004783      lockdown        0.004805         updat   \n",
       "18          want         0.00469    republican        0.004658   astrazeneca   \n",
       "19           get        0.004653         start        0.004642        credit   \n",
       "20        school        0.004615          time        0.004449         state   \n",
       "21         think        0.004561         check        0.004422          good   \n",
       "22       support        0.004401         death        0.004412        presid   \n",
       "23           say        0.004307      restrict        0.004017        report   \n",
       "24         thank        0.003993       million         0.00397         fauci   \n",
       "25        relief        0.003938        receiv        0.003938        follow   \n",
       "26           see         0.00389         thing        0.003927         trump   \n",
       "27          have        0.003826           say        0.003921       ireland   \n",
       "28          look        0.003804      american        0.003889        corona   \n",
       "29         right        0.003796          live        0.003854          stop   \n",
       "\n",
       "   topic 2 weights  \n",
       "0         0.018779  \n",
       "1         0.015438  \n",
       "2         0.009208  \n",
       "3         0.008695  \n",
       "4         0.008078  \n",
       "5         0.006605  \n",
       "6         0.006496  \n",
       "7         0.005995  \n",
       "8         0.005594  \n",
       "9         0.005524  \n",
       "10        0.005514  \n",
       "11        0.005228  \n",
       "12        0.005155  \n",
       "13        0.004976  \n",
       "14        0.004793  \n",
       "15        0.004668  \n",
       "16        0.004558  \n",
       "17        0.004542  \n",
       "18        0.004281  \n",
       "19        0.004263  \n",
       "20        0.004179  \n",
       "21        0.004103  \n",
       "22        0.004022  \n",
       "23        0.003942  \n",
       "24         0.00391  \n",
       "25        0.003881  \n",
       "26        0.003843  \n",
       "27        0.003807  \n",
       "28        0.003735  \n",
       "29        0.003637  "
      ]
     },
     "execution_count": 28,
     "metadata": {},
     "output_type": "execute_result"
    }
   ],
   "source": [
    "top_words"
   ]
  },
  {
   "cell_type": "code",
   "execution_count": 56,
   "metadata": {},
   "outputs": [
    {
     "name": "stderr",
     "output_type": "stream",
     "text": [
      "/Users/akhilranjan/opt/anaconda3/lib/python3.8/site-packages/ipykernel/ipkernel.py:287: DeprecationWarning: `should_run_async` will not call `transform_cell` automatically in the future. Please pass the result to `transformed_cell` argument and any exception that happen during thetransform in `preprocessing_exc_tuple` in IPython 7.17 and above.\n",
      "  and should_run_async(code)\n"
     ]
    },
    {
     "data": {
      "image/png": "[encoded data removed]",
      "text/plain": [
       "<Figure size 864x864 with 1 Axes>"
      ]
     },
     "metadata": {
      "needs_background": "light"
     },
     "output_type": "display_data"
    }
   ],
   "source": [
    "from wordcloud import WordCloud, STOPWORDS\n",
    "stopwords = set(STOPWORDS)\n",
    "\n",
    "def show_wordcloud(data):\n",
    "    wordcloud = WordCloud(\n",
    "        background_color='white',\n",
    "        stopwords=stopwords,\n",
    "        max_words=100,\n",
    "        max_font_size=30,\n",
    "        scale=3,\n",
    "        random_state=1)\n",
    "   \n",
    "    wordcloud=wordcloud.generate(str(data))\n",
    "\n",
    "    fig = plt.figure(1, figsize=(12, 12))\n",
    "    plt.axis('off')\n",
    "\n",
    "    plt.imshow(wordcloud)\n",
    "    plt.show()\n",
    "\n",
    "show_wordcloud(corpus)"
   ]
  },
  {
   "cell_type": "code",
   "execution_count": 66,
   "metadata": {},
   "outputs": [
    {
     "name": "stderr",
     "output_type": "stream",
     "text": [
      "/Users/akhilranjan/opt/anaconda3/lib/python3.8/site-packages/ipykernel/ipkernel.py:287: DeprecationWarning: `should_run_async` will not call `transform_cell` automatically in the future. Please pass the result to `transformed_cell` argument and any exception that happen during thetransform in `preprocessing_exc_tuple` in IPython 7.17 and above.\n",
      "  and should_run_async(code)\n"
     ]
    },
    {
     "data": {
      "text/plain": [
       "list"
      ]
     },
     "execution_count": 66,
     "metadata": {},
     "output_type": "execute_result"
    }
   ],
   "source": [
    "type(clean_tweets)"
   ]
  },
  {
   "cell_type": "code",
   "execution_count": 70,
   "metadata": {},
   "outputs": [
    {
     "name": "stderr",
     "output_type": "stream",
     "text": [
      "/Users/akhilranjan/opt/anaconda3/lib/python3.8/site-packages/ipykernel/ipkernel.py:287: DeprecationWarning: `should_run_async` will not call `transform_cell` automatically in the future. Please pass the result to `transformed_cell` argument and any exception that happen during thetransform in `preprocessing_exc_tuple` in IPython 7.17 and above.\n",
      "  and should_run_async(code)\n"
     ]
    }
   ],
   "source": [
    "data['clean_tweets']=pd.DataFrame(pd.Series(clean_tweets))"
   ]
  },
  {
   "cell_type": "code",
   "execution_count": 71,
   "metadata": {},
   "outputs": [
    {
     "name": "stderr",
     "output_type": "stream",
     "text": [
      "/Users/akhilranjan/opt/anaconda3/lib/python3.8/site-packages/ipykernel/ipkernel.py:287: DeprecationWarning: `should_run_async` will not call `transform_cell` automatically in the future. Please pass the result to `transformed_cell` argument and any exception that happen during thetransform in `preprocessing_exc_tuple` in IPython 7.17 and above.\n",
      "  and should_run_async(code)\n"
     ]
    },
    {
     "data": {
      "text/html": [
       "<div>\n",
       "<style scoped>\n",
       "    .dataframe tbody tr th:only-of-type {\n",
       "        vertical-align: middle;\n",
       "    }\n",
       "\n",
       "    .dataframe tbody tr th {\n",
       "        vertical-align: top;\n",
       "    }\n",
       "\n",
       "    .dataframe thead th {\n",
       "        text-align: right;\n",
       "    }\n",
       "</style>\n",
       "<table border=\"1\" class=\"dataframe\">\n",
       "  <thead>\n",
       "    <tr style=\"text-align: right;\">\n",
       "      <th></th>\n",
       "      <th>topic_num</th>\n",
       "      <th>dt_prob</th>\n",
       "      <th>avg_sent_score</th>\n",
       "      <th>username</th>\n",
       "      <th>location</th>\n",
       "      <th>following</th>\n",
       "      <th>followers</th>\n",
       "      <th>totaltweets</th>\n",
       "      <th>usercreatedts</th>\n",
       "      <th>tweetcreatedts</th>\n",
       "      <th>retweetcount</th>\n",
       "      <th>text</th>\n",
       "      <th>hashtags</th>\n",
       "      <th>pol_sub</th>\n",
       "      <th>Polarity</th>\n",
       "      <th>Subjectivity</th>\n",
       "      <th>Sentiment</th>\n",
       "      <th>clean_tweets</th>\n",
       "    </tr>\n",
       "  </thead>\n",
       "  <tbody>\n",
       "    <tr>\n",
       "      <th>0</th>\n",
       "      <td>2</td>\n",
       "      <td>0.814672</td>\n",
       "      <td>0.063640</td>\n",
       "      <td>GillianMKendall</td>\n",
       "      <td>NaN</td>\n",
       "      <td>7354</td>\n",
       "      <td>7400</td>\n",
       "      <td>24122</td>\n",
       "      <td>5/26/14 13:05</td>\n",
       "      <td>3/14/21 18:30</td>\n",
       "      <td>0</td>\n",
       "      <td>@LindenmuthWendi In these times of #COVID19, i...</td>\n",
       "      <td>[{'text': 'COVID19', 'indices': [35, 43]}]</td>\n",
       "      <td>(0.125, 0.9444444444444444)</td>\n",
       "      <td>0.125000</td>\n",
       "      <td>0.944444</td>\n",
       "      <td>positive</td>\n",
       "      <td>in these times of covid19 it seems my favorit...</td>\n",
       "    </tr>\n",
       "    <tr>\n",
       "      <th>1</th>\n",
       "      <td>1</td>\n",
       "      <td>0.847489</td>\n",
       "      <td>-0.128300</td>\n",
       "      <td>blxckreject</td>\n",
       "      <td>NaN</td>\n",
       "      <td>197</td>\n",
       "      <td>61</td>\n",
       "      <td>1518</td>\n",
       "      <td>12/31/20 10:58</td>\n",
       "      <td>3/14/21 18:30</td>\n",
       "      <td>0</td>\n",
       "      <td>Reminder that asians and Hispanics are also vi...</td>\n",
       "      <td>[]</td>\n",
       "      <td>(0.0, 0.0)</td>\n",
       "      <td>0.000000</td>\n",
       "      <td>0.000000</td>\n",
       "      <td>neutral</td>\n",
       "      <td>reminder that asians and hispanics are also vi...</td>\n",
       "    </tr>\n",
       "    <tr>\n",
       "      <th>2</th>\n",
       "      <td>1</td>\n",
       "      <td>0.854007</td>\n",
       "      <td>-0.119175</td>\n",
       "      <td>guilfordghost</td>\n",
       "      <td>NaN</td>\n",
       "      <td>127</td>\n",
       "      <td>17</td>\n",
       "      <td>1079</td>\n",
       "      <td>1/20/21 17:19</td>\n",
       "      <td>3/14/21 18:30</td>\n",
       "      <td>0</td>\n",
       "      <td>@vlindy33 @biannagolodryga @maggieNYT @CNNMeri...</td>\n",
       "      <td>[]</td>\n",
       "      <td>(0.0, 0.0)</td>\n",
       "      <td>0.000000</td>\n",
       "      <td>0.000000</td>\n",
       "      <td>neutral</td>\n",
       "      <td>my point is to say that kids behavioral is...</td>\n",
       "    </tr>\n",
       "    <tr>\n",
       "      <th>3</th>\n",
       "      <td>2</td>\n",
       "      <td>0.670358</td>\n",
       "      <td>0.000000</td>\n",
       "      <td>Rickself27gmai1</td>\n",
       "      <td>Pittsburgh</td>\n",
       "      <td>4971</td>\n",
       "      <td>4337</td>\n",
       "      <td>2311</td>\n",
       "      <td>3/12/18 11:54</td>\n",
       "      <td>3/14/21 18:30</td>\n",
       "      <td>0</td>\n",
       "      <td>No Saying Much for Christie but All of the Rep...</td>\n",
       "      <td>[]</td>\n",
       "      <td>(0.2, 0.2)</td>\n",
       "      <td>0.200000</td>\n",
       "      <td>0.200000</td>\n",
       "      <td>positive</td>\n",
       "      <td>no saying much for christie but all of the rep...</td>\n",
       "    </tr>\n",
       "    <tr>\n",
       "      <th>4</th>\n",
       "      <td>1</td>\n",
       "      <td>0.531789</td>\n",
       "      <td>0.000000</td>\n",
       "      <td>CovidData2</td>\n",
       "      <td>NaN</td>\n",
       "      <td>31</td>\n",
       "      <td>83</td>\n",
       "      <td>12948</td>\n",
       "      <td>4/5/20 14:41</td>\n",
       "      <td>3/14/21 18:30</td>\n",
       "      <td>0</td>\n",
       "      <td>New COVID-19 Data at 2021-03-14 02:30:00 pm ED...</td>\n",
       "      <td>[{'text': 'Coronavirus', 'indices': [48, 60]},...</td>\n",
       "      <td>(0.13636363636363635, 0.45454545454545453)</td>\n",
       "      <td>0.136364</td>\n",
       "      <td>0.454545</td>\n",
       "      <td>positive</td>\n",
       "      <td>new covid19 data at 20210314 023000 pm edt cor...</td>\n",
       "    </tr>\n",
       "    <tr>\n",
       "      <th>...</th>\n",
       "      <td>...</td>\n",
       "      <td>...</td>\n",
       "      <td>...</td>\n",
       "      <td>...</td>\n",
       "      <td>...</td>\n",
       "      <td>...</td>\n",
       "      <td>...</td>\n",
       "      <td>...</td>\n",
       "      <td>...</td>\n",
       "      <td>...</td>\n",
       "      <td>...</td>\n",
       "      <td>...</td>\n",
       "      <td>...</td>\n",
       "      <td>...</td>\n",
       "      <td>...</td>\n",
       "      <td>...</td>\n",
       "      <td>...</td>\n",
       "      <td>...</td>\n",
       "    </tr>\n",
       "    <tr>\n",
       "      <th>15695</th>\n",
       "      <td>1</td>\n",
       "      <td>0.894024</td>\n",
       "      <td>-0.063633</td>\n",
       "      <td>djvlad</td>\n",
       "      <td>New York</td>\n",
       "      <td>863</td>\n",
       "      <td>166074</td>\n",
       "      <td>241380</td>\n",
       "      <td>12/12/08 22:43</td>\n",
       "      <td>3/14/21 17:25</td>\n",
       "      <td>10</td>\n",
       "      <td>Marvin Hagler Was Allegedly in ICU Fighting Af...</td>\n",
       "      <td>[]</td>\n",
       "      <td>(-0.1, 0.1)</td>\n",
       "      <td>-0.100000</td>\n",
       "      <td>0.100000</td>\n",
       "      <td>negative</td>\n",
       "      <td>marvin hagler was allegedly in icu fighting af...</td>\n",
       "    </tr>\n",
       "    <tr>\n",
       "      <th>15696</th>\n",
       "      <td>1</td>\n",
       "      <td>0.836081</td>\n",
       "      <td>0.000000</td>\n",
       "      <td>NumbersMan3</td>\n",
       "      <td>NaN</td>\n",
       "      <td>3</td>\n",
       "      <td>23</td>\n",
       "      <td>4014</td>\n",
       "      <td>4/25/20 14:49</td>\n",
       "      <td>3/14/21 17:25</td>\n",
       "      <td>0</td>\n",
       "      <td>@jdpoc Or, to paraphrase: know your rights and...</td>\n",
       "      <td>[]</td>\n",
       "      <td>(0.0, 0.0)</td>\n",
       "      <td>0.000000</td>\n",
       "      <td>0.000000</td>\n",
       "      <td>neutral</td>\n",
       "      <td>or to paraphrase know your rights and ignore ...</td>\n",
       "    </tr>\n",
       "    <tr>\n",
       "      <th>15697</th>\n",
       "      <td>1</td>\n",
       "      <td>0.670566</td>\n",
       "      <td>0.042500</td>\n",
       "      <td>EwanKing_</td>\n",
       "      <td>NaN</td>\n",
       "      <td>1489</td>\n",
       "      <td>475</td>\n",
       "      <td>3856</td>\n",
       "      <td>9/18/13 15:18</td>\n",
       "      <td>3/14/21 17:25</td>\n",
       "      <td>0</td>\n",
       "      <td>Baffling how the SFA are planning on making pa...</td>\n",
       "      <td>[]</td>\n",
       "      <td>(-0.3333333333333333, 0.6666666666666666)</td>\n",
       "      <td>-0.333333</td>\n",
       "      <td>0.666667</td>\n",
       "      <td>negative</td>\n",
       "      <td>baffling how the sfa are planning on making pa...</td>\n",
       "    </tr>\n",
       "    <tr>\n",
       "      <th>15698</th>\n",
       "      <td>0</td>\n",
       "      <td>0.496557</td>\n",
       "      <td>-0.054543</td>\n",
       "      <td>Mix1041</td>\n",
       "      <td>Boston, MA</td>\n",
       "      <td>3457</td>\n",
       "      <td>14016</td>\n",
       "      <td>61104</td>\n",
       "      <td>8/7/09 15:54</td>\n",
       "      <td>3/14/21 17:25</td>\n",
       "      <td>0</td>\n",
       "      <td>As more nursing home residents get vaccinated,...</td>\n",
       "      <td>[]</td>\n",
       "      <td>(0.5, 0.5)</td>\n",
       "      <td>0.500000</td>\n",
       "      <td>0.500000</td>\n",
       "      <td>positive</td>\n",
       "      <td>as more nursing home residents get vaccinated ...</td>\n",
       "    </tr>\n",
       "    <tr>\n",
       "      <th>15699</th>\n",
       "      <td>2</td>\n",
       "      <td>0.916103</td>\n",
       "      <td>0.000000</td>\n",
       "      <td>YVFWC</td>\n",
       "      <td>Over 60 locations in WA &amp; OR</td>\n",
       "      <td>1237</td>\n",
       "      <td>757</td>\n",
       "      <td>2266</td>\n",
       "      <td>6/27/13 15:42</td>\n",
       "      <td>3/14/21 17:25</td>\n",
       "      <td>0</td>\n",
       "      <td>We can do it! We can slow the spread of COVID-...</td>\n",
       "      <td>[]</td>\n",
       "      <td>(-0.30000000000000004, 0.39999999999999997)</td>\n",
       "      <td>-0.300000</td>\n",
       "      <td>0.400000</td>\n",
       "      <td>negative</td>\n",
       "      <td>we can do it we can slow the spread of covid19...</td>\n",
       "    </tr>\n",
       "  </tbody>\n",
       "</table>\n",
       "<p>15700 rows × 18 columns</p>\n",
       "</div>"
      ],
      "text/plain": [
       "       topic_num   dt_prob  avg_sent_score         username  \\\n",
       "0              2  0.814672        0.063640  GillianMKendall   \n",
       "1              1  0.847489       -0.128300      blxckreject   \n",
       "2              1  0.854007       -0.119175    guilfordghost   \n",
       "3              2  0.670358        0.000000  Rickself27gmai1   \n",
       "4              1  0.531789        0.000000       CovidData2   \n",
       "...          ...       ...             ...              ...   \n",
       "15695          1  0.894024       -0.063633           djvlad   \n",
       "15696          1  0.836081        0.000000      NumbersMan3   \n",
       "15697          1  0.670566        0.042500        EwanKing_   \n",
       "15698          0  0.496557       -0.054543          Mix1041   \n",
       "15699          2  0.916103        0.000000            YVFWC   \n",
       "\n",
       "                           location  following  followers  totaltweets  \\\n",
       "0                               NaN       7354       7400        24122   \n",
       "1                               NaN        197         61         1518   \n",
       "2                               NaN        127         17         1079   \n",
       "3                       Pittsburgh        4971       4337         2311   \n",
       "4                               NaN         31         83        12948   \n",
       "...                             ...        ...        ...          ...   \n",
       "15695                      New York        863     166074       241380   \n",
       "15696                           NaN          3         23         4014   \n",
       "15697                           NaN       1489        475         3856   \n",
       "15698                    Boston, MA       3457      14016        61104   \n",
       "15699  Over 60 locations in WA & OR       1237        757         2266   \n",
       "\n",
       "        usercreatedts tweetcreatedts  retweetcount  \\\n",
       "0       5/26/14 13:05  3/14/21 18:30             0   \n",
       "1      12/31/20 10:58  3/14/21 18:30             0   \n",
       "2       1/20/21 17:19  3/14/21 18:30             0   \n",
       "3       3/12/18 11:54  3/14/21 18:30             0   \n",
       "4        4/5/20 14:41  3/14/21 18:30             0   \n",
       "...               ...            ...           ...   \n",
       "15695  12/12/08 22:43  3/14/21 17:25            10   \n",
       "15696   4/25/20 14:49  3/14/21 17:25             0   \n",
       "15697   9/18/13 15:18  3/14/21 17:25             0   \n",
       "15698    8/7/09 15:54  3/14/21 17:25             0   \n",
       "15699   6/27/13 15:42  3/14/21 17:25             0   \n",
       "\n",
       "                                                    text  \\\n",
       "0      @LindenmuthWendi In these times of #COVID19, i...   \n",
       "1      Reminder that asians and Hispanics are also vi...   \n",
       "2      @vlindy33 @biannagolodryga @maggieNYT @CNNMeri...   \n",
       "3      No Saying Much for Christie but All of the Rep...   \n",
       "4      New COVID-19 Data at 2021-03-14 02:30:00 pm ED...   \n",
       "...                                                  ...   \n",
       "15695  Marvin Hagler Was Allegedly in ICU Fighting Af...   \n",
       "15696  @jdpoc Or, to paraphrase: know your rights and...   \n",
       "15697  Baffling how the SFA are planning on making pa...   \n",
       "15698  As more nursing home residents get vaccinated,...   \n",
       "15699  We can do it! We can slow the spread of COVID-...   \n",
       "\n",
       "                                                hashtags  \\\n",
       "0             [{'text': 'COVID19', 'indices': [35, 43]}]   \n",
       "1                                                     []   \n",
       "2                                                     []   \n",
       "3                                                     []   \n",
       "4      [{'text': 'Coronavirus', 'indices': [48, 60]},...   \n",
       "...                                                  ...   \n",
       "15695                                                 []   \n",
       "15696                                                 []   \n",
       "15697                                                 []   \n",
       "15698                                                 []   \n",
       "15699                                                 []   \n",
       "\n",
       "                                           pol_sub  Polarity  Subjectivity  \\\n",
       "0                      (0.125, 0.9444444444444444)  0.125000      0.944444   \n",
       "1                                       (0.0, 0.0)  0.000000      0.000000   \n",
       "2                                       (0.0, 0.0)  0.000000      0.000000   \n",
       "3                                       (0.2, 0.2)  0.200000      0.200000   \n",
       "4       (0.13636363636363635, 0.45454545454545453)  0.136364      0.454545   \n",
       "...                                            ...       ...           ...   \n",
       "15695                                  (-0.1, 0.1) -0.100000      0.100000   \n",
       "15696                                   (0.0, 0.0)  0.000000      0.000000   \n",
       "15697    (-0.3333333333333333, 0.6666666666666666) -0.333333      0.666667   \n",
       "15698                                   (0.5, 0.5)  0.500000      0.500000   \n",
       "15699  (-0.30000000000000004, 0.39999999999999997) -0.300000      0.400000   \n",
       "\n",
       "      Sentiment                                       clean_tweets  \n",
       "0      positive   in these times of covid19 it seems my favorit...  \n",
       "1       neutral  reminder that asians and hispanics are also vi...  \n",
       "2       neutral      my point is to say that kids behavioral is...  \n",
       "3      positive  no saying much for christie but all of the rep...  \n",
       "4      positive  new covid19 data at 20210314 023000 pm edt cor...  \n",
       "...         ...                                                ...  \n",
       "15695  negative  marvin hagler was allegedly in icu fighting af...  \n",
       "15696   neutral   or to paraphrase know your rights and ignore ...  \n",
       "15697  negative  baffling how the sfa are planning on making pa...  \n",
       "15698  positive  as more nursing home residents get vaccinated ...  \n",
       "15699  negative  we can do it we can slow the spread of covid19...  \n",
       "\n",
       "[15700 rows x 18 columns]"
      ]
     },
     "execution_count": 71,
     "metadata": {},
     "output_type": "execute_result"
    }
   ],
   "source": [
    "data"
   ]
  },
  {
   "cell_type": "code",
   "execution_count": 72,
   "metadata": {},
   "outputs": [
    {
     "name": "stderr",
     "output_type": "stream",
     "text": [
      "/Users/akhilranjan/opt/anaconda3/lib/python3.8/site-packages/ipykernel/ipkernel.py:287: DeprecationWarning: `should_run_async` will not call `transform_cell` automatically in the future. Please pass the result to `transformed_cell` argument and any exception that happen during thetransform in `preprocessing_exc_tuple` in IPython 7.17 and above.\n",
      "  and should_run_async(code)\n"
     ]
    }
   ],
   "source": [
    "from textblob import TextBlob"
   ]
  },
  {
   "cell_type": "code",
   "execution_count": 73,
   "metadata": {},
   "outputs": [
    {
     "name": "stderr",
     "output_type": "stream",
     "text": [
      "/Users/akhilranjan/opt/anaconda3/lib/python3.8/site-packages/ipykernel/ipkernel.py:287: DeprecationWarning: `should_run_async` will not call `transform_cell` automatically in the future. Please pass the result to `transformed_cell` argument and any exception that happen during thetransform in `preprocessing_exc_tuple` in IPython 7.17 and above.\n",
      "  and should_run_async(code)\n"
     ]
    }
   ],
   "source": [
    "def sentiment_func(text):\n",
    "    try:\n",
    "        return TextBlob(text).sentiment\n",
    "    except:\n",
    "        return None"
   ]
  },
  {
   "cell_type": "code",
   "execution_count": 74,
   "metadata": {},
   "outputs": [
    {
     "name": "stderr",
     "output_type": "stream",
     "text": [
      "/Users/akhilranjan/opt/anaconda3/lib/python3.8/site-packages/ipykernel/ipkernel.py:287: DeprecationWarning: `should_run_async` will not call `transform_cell` automatically in the future. Please pass the result to `transformed_cell` argument and any exception that happen during thetransform in `preprocessing_exc_tuple` in IPython 7.17 and above.\n",
      "  and should_run_async(code)\n"
     ]
    }
   ],
   "source": [
    "data['pol_sub']=data['clean_tweets'].apply(sentiment_func)"
   ]
  },
  {
   "cell_type": "code",
   "execution_count": 75,
   "metadata": {},
   "outputs": [
    {
     "name": "stderr",
     "output_type": "stream",
     "text": [
      "/Users/akhilranjan/opt/anaconda3/lib/python3.8/site-packages/ipykernel/ipkernel.py:287: DeprecationWarning: `should_run_async` will not call `transform_cell` automatically in the future. Please pass the result to `transformed_cell` argument and any exception that happen during thetransform in `preprocessing_exc_tuple` in IPython 7.17 and above.\n",
      "  and should_run_async(code)\n"
     ]
    },
    {
     "data": {
      "text/plain": [
       "0.125"
      ]
     },
     "execution_count": 75,
     "metadata": {},
     "output_type": "execute_result"
    }
   ],
   "source": [
    "data['pol_sub'][0][0]"
   ]
  },
  {
   "cell_type": "code",
   "execution_count": 76,
   "metadata": {},
   "outputs": [
    {
     "name": "stderr",
     "output_type": "stream",
     "text": [
      "/Users/akhilranjan/opt/anaconda3/lib/python3.8/site-packages/ipykernel/ipkernel.py:287: DeprecationWarning: `should_run_async` will not call `transform_cell` automatically in the future. Please pass the result to `transformed_cell` argument and any exception that happen during thetransform in `preprocessing_exc_tuple` in IPython 7.17 and above.\n",
      "  and should_run_async(code)\n"
     ]
    }
   ],
   "source": [
    "data['Polarity'] = data['pol_sub'].apply(lambda x: x[0])\n",
    "data['Subjectivity'] = data['pol_sub'].apply(lambda x: x[1])"
   ]
  },
  {
   "cell_type": "code",
   "execution_count": 77,
   "metadata": {},
   "outputs": [
    {
     "name": "stderr",
     "output_type": "stream",
     "text": [
      "/Users/akhilranjan/opt/anaconda3/lib/python3.8/site-packages/ipykernel/ipkernel.py:287: DeprecationWarning: `should_run_async` will not call `transform_cell` automatically in the future. Please pass the result to `transformed_cell` argument and any exception that happen during thetransform in `preprocessing_exc_tuple` in IPython 7.17 and above.\n",
      "  and should_run_async(code)\n"
     ]
    },
    {
     "data": {
      "text/html": [
       "<div>\n",
       "<style scoped>\n",
       "    .dataframe tbody tr th:only-of-type {\n",
       "        vertical-align: middle;\n",
       "    }\n",
       "\n",
       "    .dataframe tbody tr th {\n",
       "        vertical-align: top;\n",
       "    }\n",
       "\n",
       "    .dataframe thead th {\n",
       "        text-align: right;\n",
       "    }\n",
       "</style>\n",
       "<table border=\"1\" class=\"dataframe\">\n",
       "  <thead>\n",
       "    <tr style=\"text-align: right;\">\n",
       "      <th></th>\n",
       "      <th>topic_num</th>\n",
       "      <th>dt_prob</th>\n",
       "      <th>avg_sent_score</th>\n",
       "      <th>username</th>\n",
       "      <th>location</th>\n",
       "      <th>following</th>\n",
       "      <th>followers</th>\n",
       "      <th>totaltweets</th>\n",
       "      <th>usercreatedts</th>\n",
       "      <th>tweetcreatedts</th>\n",
       "      <th>retweetcount</th>\n",
       "      <th>text</th>\n",
       "      <th>hashtags</th>\n",
       "      <th>pol_sub</th>\n",
       "      <th>Polarity</th>\n",
       "      <th>Subjectivity</th>\n",
       "      <th>Sentiment</th>\n",
       "      <th>clean_tweets</th>\n",
       "    </tr>\n",
       "  </thead>\n",
       "  <tbody>\n",
       "    <tr>\n",
       "      <th>0</th>\n",
       "      <td>2</td>\n",
       "      <td>0.814672</td>\n",
       "      <td>0.063640</td>\n",
       "      <td>GillianMKendall</td>\n",
       "      <td>NaN</td>\n",
       "      <td>7354</td>\n",
       "      <td>7400</td>\n",
       "      <td>24122</td>\n",
       "      <td>5/26/14 13:05</td>\n",
       "      <td>3/14/21 18:30</td>\n",
       "      <td>0</td>\n",
       "      <td>@LindenmuthWendi In these times of #COVID19, i...</td>\n",
       "      <td>[{'text': 'COVID19', 'indices': [35, 43]}]</td>\n",
       "      <td>(0.125, 0.9444444444444444)</td>\n",
       "      <td>0.125000</td>\n",
       "      <td>0.944444</td>\n",
       "      <td>positive</td>\n",
       "      <td>in these times of covid19 it seems my favorit...</td>\n",
       "    </tr>\n",
       "    <tr>\n",
       "      <th>1</th>\n",
       "      <td>1</td>\n",
       "      <td>0.847489</td>\n",
       "      <td>-0.128300</td>\n",
       "      <td>blxckreject</td>\n",
       "      <td>NaN</td>\n",
       "      <td>197</td>\n",
       "      <td>61</td>\n",
       "      <td>1518</td>\n",
       "      <td>12/31/20 10:58</td>\n",
       "      <td>3/14/21 18:30</td>\n",
       "      <td>0</td>\n",
       "      <td>Reminder that asians and Hispanics are also vi...</td>\n",
       "      <td>[]</td>\n",
       "      <td>(0.0, 0.0)</td>\n",
       "      <td>0.000000</td>\n",
       "      <td>0.000000</td>\n",
       "      <td>neutral</td>\n",
       "      <td>reminder that asians and hispanics are also vi...</td>\n",
       "    </tr>\n",
       "    <tr>\n",
       "      <th>2</th>\n",
       "      <td>1</td>\n",
       "      <td>0.854007</td>\n",
       "      <td>-0.119175</td>\n",
       "      <td>guilfordghost</td>\n",
       "      <td>NaN</td>\n",
       "      <td>127</td>\n",
       "      <td>17</td>\n",
       "      <td>1079</td>\n",
       "      <td>1/20/21 17:19</td>\n",
       "      <td>3/14/21 18:30</td>\n",
       "      <td>0</td>\n",
       "      <td>@vlindy33 @biannagolodryga @maggieNYT @CNNMeri...</td>\n",
       "      <td>[]</td>\n",
       "      <td>(0.0, 0.0)</td>\n",
       "      <td>0.000000</td>\n",
       "      <td>0.000000</td>\n",
       "      <td>neutral</td>\n",
       "      <td>my point is to say that kids behavioral is...</td>\n",
       "    </tr>\n",
       "    <tr>\n",
       "      <th>3</th>\n",
       "      <td>2</td>\n",
       "      <td>0.670358</td>\n",
       "      <td>0.000000</td>\n",
       "      <td>Rickself27gmai1</td>\n",
       "      <td>Pittsburgh</td>\n",
       "      <td>4971</td>\n",
       "      <td>4337</td>\n",
       "      <td>2311</td>\n",
       "      <td>3/12/18 11:54</td>\n",
       "      <td>3/14/21 18:30</td>\n",
       "      <td>0</td>\n",
       "      <td>No Saying Much for Christie but All of the Rep...</td>\n",
       "      <td>[]</td>\n",
       "      <td>(0.2, 0.2)</td>\n",
       "      <td>0.200000</td>\n",
       "      <td>0.200000</td>\n",
       "      <td>positive</td>\n",
       "      <td>no saying much for christie but all of the rep...</td>\n",
       "    </tr>\n",
       "    <tr>\n",
       "      <th>4</th>\n",
       "      <td>1</td>\n",
       "      <td>0.531789</td>\n",
       "      <td>0.000000</td>\n",
       "      <td>CovidData2</td>\n",
       "      <td>NaN</td>\n",
       "      <td>31</td>\n",
       "      <td>83</td>\n",
       "      <td>12948</td>\n",
       "      <td>4/5/20 14:41</td>\n",
       "      <td>3/14/21 18:30</td>\n",
       "      <td>0</td>\n",
       "      <td>New COVID-19 Data at 2021-03-14 02:30:00 pm ED...</td>\n",
       "      <td>[{'text': 'Coronavirus', 'indices': [48, 60]},...</td>\n",
       "      <td>(0.13636363636363635, 0.45454545454545453)</td>\n",
       "      <td>0.136364</td>\n",
       "      <td>0.454545</td>\n",
       "      <td>positive</td>\n",
       "      <td>new covid19 data at 20210314 023000 pm edt cor...</td>\n",
       "    </tr>\n",
       "    <tr>\n",
       "      <th>...</th>\n",
       "      <td>...</td>\n",
       "      <td>...</td>\n",
       "      <td>...</td>\n",
       "      <td>...</td>\n",
       "      <td>...</td>\n",
       "      <td>...</td>\n",
       "      <td>...</td>\n",
       "      <td>...</td>\n",
       "      <td>...</td>\n",
       "      <td>...</td>\n",
       "      <td>...</td>\n",
       "      <td>...</td>\n",
       "      <td>...</td>\n",
       "      <td>...</td>\n",
       "      <td>...</td>\n",
       "      <td>...</td>\n",
       "      <td>...</td>\n",
       "      <td>...</td>\n",
       "    </tr>\n",
       "    <tr>\n",
       "      <th>15695</th>\n",
       "      <td>1</td>\n",
       "      <td>0.894024</td>\n",
       "      <td>-0.063633</td>\n",
       "      <td>djvlad</td>\n",
       "      <td>New York</td>\n",
       "      <td>863</td>\n",
       "      <td>166074</td>\n",
       "      <td>241380</td>\n",
       "      <td>12/12/08 22:43</td>\n",
       "      <td>3/14/21 17:25</td>\n",
       "      <td>10</td>\n",
       "      <td>Marvin Hagler Was Allegedly in ICU Fighting Af...</td>\n",
       "      <td>[]</td>\n",
       "      <td>(-0.1, 0.1)</td>\n",
       "      <td>-0.100000</td>\n",
       "      <td>0.100000</td>\n",
       "      <td>negative</td>\n",
       "      <td>marvin hagler was allegedly in icu fighting af...</td>\n",
       "    </tr>\n",
       "    <tr>\n",
       "      <th>15696</th>\n",
       "      <td>1</td>\n",
       "      <td>0.836081</td>\n",
       "      <td>0.000000</td>\n",
       "      <td>NumbersMan3</td>\n",
       "      <td>NaN</td>\n",
       "      <td>3</td>\n",
       "      <td>23</td>\n",
       "      <td>4014</td>\n",
       "      <td>4/25/20 14:49</td>\n",
       "      <td>3/14/21 17:25</td>\n",
       "      <td>0</td>\n",
       "      <td>@jdpoc Or, to paraphrase: know your rights and...</td>\n",
       "      <td>[]</td>\n",
       "      <td>(0.0, 0.0)</td>\n",
       "      <td>0.000000</td>\n",
       "      <td>0.000000</td>\n",
       "      <td>neutral</td>\n",
       "      <td>or to paraphrase know your rights and ignore ...</td>\n",
       "    </tr>\n",
       "    <tr>\n",
       "      <th>15697</th>\n",
       "      <td>1</td>\n",
       "      <td>0.670566</td>\n",
       "      <td>0.042500</td>\n",
       "      <td>EwanKing_</td>\n",
       "      <td>NaN</td>\n",
       "      <td>1489</td>\n",
       "      <td>475</td>\n",
       "      <td>3856</td>\n",
       "      <td>9/18/13 15:18</td>\n",
       "      <td>3/14/21 17:25</td>\n",
       "      <td>0</td>\n",
       "      <td>Baffling how the SFA are planning on making pa...</td>\n",
       "      <td>[]</td>\n",
       "      <td>(-0.3333333333333333, 0.6666666666666666)</td>\n",
       "      <td>-0.333333</td>\n",
       "      <td>0.666667</td>\n",
       "      <td>negative</td>\n",
       "      <td>baffling how the sfa are planning on making pa...</td>\n",
       "    </tr>\n",
       "    <tr>\n",
       "      <th>15698</th>\n",
       "      <td>0</td>\n",
       "      <td>0.496557</td>\n",
       "      <td>-0.054543</td>\n",
       "      <td>Mix1041</td>\n",
       "      <td>Boston, MA</td>\n",
       "      <td>3457</td>\n",
       "      <td>14016</td>\n",
       "      <td>61104</td>\n",
       "      <td>8/7/09 15:54</td>\n",
       "      <td>3/14/21 17:25</td>\n",
       "      <td>0</td>\n",
       "      <td>As more nursing home residents get vaccinated,...</td>\n",
       "      <td>[]</td>\n",
       "      <td>(0.5, 0.5)</td>\n",
       "      <td>0.500000</td>\n",
       "      <td>0.500000</td>\n",
       "      <td>positive</td>\n",
       "      <td>as more nursing home residents get vaccinated ...</td>\n",
       "    </tr>\n",
       "    <tr>\n",
       "      <th>15699</th>\n",
       "      <td>2</td>\n",
       "      <td>0.916103</td>\n",
       "      <td>0.000000</td>\n",
       "      <td>YVFWC</td>\n",
       "      <td>Over 60 locations in WA &amp; OR</td>\n",
       "      <td>1237</td>\n",
       "      <td>757</td>\n",
       "      <td>2266</td>\n",
       "      <td>6/27/13 15:42</td>\n",
       "      <td>3/14/21 17:25</td>\n",
       "      <td>0</td>\n",
       "      <td>We can do it! We can slow the spread of COVID-...</td>\n",
       "      <td>[]</td>\n",
       "      <td>(-0.30000000000000004, 0.39999999999999997)</td>\n",
       "      <td>-0.300000</td>\n",
       "      <td>0.400000</td>\n",
       "      <td>negative</td>\n",
       "      <td>we can do it we can slow the spread of covid19...</td>\n",
       "    </tr>\n",
       "  </tbody>\n",
       "</table>\n",
       "<p>15700 rows × 18 columns</p>\n",
       "</div>"
      ],
      "text/plain": [
       "       topic_num   dt_prob  avg_sent_score         username  \\\n",
       "0              2  0.814672        0.063640  GillianMKendall   \n",
       "1              1  0.847489       -0.128300      blxckreject   \n",
       "2              1  0.854007       -0.119175    guilfordghost   \n",
       "3              2  0.670358        0.000000  Rickself27gmai1   \n",
       "4              1  0.531789        0.000000       CovidData2   \n",
       "...          ...       ...             ...              ...   \n",
       "15695          1  0.894024       -0.063633           djvlad   \n",
       "15696          1  0.836081        0.000000      NumbersMan3   \n",
       "15697          1  0.670566        0.042500        EwanKing_   \n",
       "15698          0  0.496557       -0.054543          Mix1041   \n",
       "15699          2  0.916103        0.000000            YVFWC   \n",
       "\n",
       "                           location  following  followers  totaltweets  \\\n",
       "0                               NaN       7354       7400        24122   \n",
       "1                               NaN        197         61         1518   \n",
       "2                               NaN        127         17         1079   \n",
       "3                       Pittsburgh        4971       4337         2311   \n",
       "4                               NaN         31         83        12948   \n",
       "...                             ...        ...        ...          ...   \n",
       "15695                      New York        863     166074       241380   \n",
       "15696                           NaN          3         23         4014   \n",
       "15697                           NaN       1489        475         3856   \n",
       "15698                    Boston, MA       3457      14016        61104   \n",
       "15699  Over 60 locations in WA & OR       1237        757         2266   \n",
       "\n",
       "        usercreatedts tweetcreatedts  retweetcount  \\\n",
       "0       5/26/14 13:05  3/14/21 18:30             0   \n",
       "1      12/31/20 10:58  3/14/21 18:30             0   \n",
       "2       1/20/21 17:19  3/14/21 18:30             0   \n",
       "3       3/12/18 11:54  3/14/21 18:30             0   \n",
       "4        4/5/20 14:41  3/14/21 18:30             0   \n",
       "...               ...            ...           ...   \n",
       "15695  12/12/08 22:43  3/14/21 17:25            10   \n",
       "15696   4/25/20 14:49  3/14/21 17:25             0   \n",
       "15697   9/18/13 15:18  3/14/21 17:25             0   \n",
       "15698    8/7/09 15:54  3/14/21 17:25             0   \n",
       "15699   6/27/13 15:42  3/14/21 17:25             0   \n",
       "\n",
       "                                                    text  \\\n",
       "0      @LindenmuthWendi In these times of #COVID19, i...   \n",
       "1      Reminder that asians and Hispanics are also vi...   \n",
       "2      @vlindy33 @biannagolodryga @maggieNYT @CNNMeri...   \n",
       "3      No Saying Much for Christie but All of the Rep...   \n",
       "4      New COVID-19 Data at 2021-03-14 02:30:00 pm ED...   \n",
       "...                                                  ...   \n",
       "15695  Marvin Hagler Was Allegedly in ICU Fighting Af...   \n",
       "15696  @jdpoc Or, to paraphrase: know your rights and...   \n",
       "15697  Baffling how the SFA are planning on making pa...   \n",
       "15698  As more nursing home residents get vaccinated,...   \n",
       "15699  We can do it! We can slow the spread of COVID-...   \n",
       "\n",
       "                                                hashtags  \\\n",
       "0             [{'text': 'COVID19', 'indices': [35, 43]}]   \n",
       "1                                                     []   \n",
       "2                                                     []   \n",
       "3                                                     []   \n",
       "4      [{'text': 'Coronavirus', 'indices': [48, 60]},...   \n",
       "...                                                  ...   \n",
       "15695                                                 []   \n",
       "15696                                                 []   \n",
       "15697                                                 []   \n",
       "15698                                                 []   \n",
       "15699                                                 []   \n",
       "\n",
       "                                           pol_sub  Polarity  Subjectivity  \\\n",
       "0                      (0.125, 0.9444444444444444)  0.125000      0.944444   \n",
       "1                                       (0.0, 0.0)  0.000000      0.000000   \n",
       "2                                       (0.0, 0.0)  0.000000      0.000000   \n",
       "3                                       (0.2, 0.2)  0.200000      0.200000   \n",
       "4       (0.13636363636363635, 0.45454545454545453)  0.136364      0.454545   \n",
       "...                                            ...       ...           ...   \n",
       "15695                                  (-0.1, 0.1) -0.100000      0.100000   \n",
       "15696                                   (0.0, 0.0)  0.000000      0.000000   \n",
       "15697    (-0.3333333333333333, 0.6666666666666666) -0.333333      0.666667   \n",
       "15698                                   (0.5, 0.5)  0.500000      0.500000   \n",
       "15699  (-0.30000000000000004, 0.39999999999999997) -0.300000      0.400000   \n",
       "\n",
       "      Sentiment                                       clean_tweets  \n",
       "0      positive   in these times of covid19 it seems my favorit...  \n",
       "1       neutral  reminder that asians and hispanics are also vi...  \n",
       "2       neutral      my point is to say that kids behavioral is...  \n",
       "3      positive  no saying much for christie but all of the rep...  \n",
       "4      positive  new covid19 data at 20210314 023000 pm edt cor...  \n",
       "...         ...                                                ...  \n",
       "15695  negative  marvin hagler was allegedly in icu fighting af...  \n",
       "15696   neutral   or to paraphrase know your rights and ignore ...  \n",
       "15697  negative  baffling how the sfa are planning on making pa...  \n",
       "15698  positive  as more nursing home residents get vaccinated ...  \n",
       "15699  negative  we can do it we can slow the spread of covid19...  \n",
       "\n",
       "[15700 rows x 18 columns]"
      ]
     },
     "execution_count": 77,
     "metadata": {},
     "output_type": "execute_result"
    }
   ],
   "source": [
    "data"
   ]
  },
  {
   "cell_type": "code",
   "execution_count": 78,
   "metadata": {},
   "outputs": [
    {
     "name": "stderr",
     "output_type": "stream",
     "text": [
      "/Users/akhilranjan/opt/anaconda3/lib/python3.8/site-packages/ipykernel/ipkernel.py:287: DeprecationWarning: `should_run_async` will not call `transform_cell` automatically in the future. Please pass the result to `transformed_cell` argument and any exception that happen during thetransform in `preprocessing_exc_tuple` in IPython 7.17 and above.\n",
      "  and should_run_async(code)\n"
     ]
    }
   ],
   "source": [
    "from textblob import TextBlob\n",
    "def get_tweet_sentiment(text):\n",
    "        analysis = TextBlob(text)\n",
    "        if analysis.sentiment.polarity > 0:\n",
    "            return 'positive'\n",
    "        elif analysis.sentiment.polarity == 0:\n",
    "            return 'neutral'\n",
    "        else:\n",
    "            return 'negative'"
   ]
  },
  {
   "cell_type": "code",
   "execution_count": 79,
   "metadata": {},
   "outputs": [
    {
     "name": "stderr",
     "output_type": "stream",
     "text": [
      "/Users/akhilranjan/opt/anaconda3/lib/python3.8/site-packages/ipykernel/ipkernel.py:287: DeprecationWarning: `should_run_async` will not call `transform_cell` automatically in the future. Please pass the result to `transformed_cell` argument and any exception that happen during thetransform in `preprocessing_exc_tuple` in IPython 7.17 and above.\n",
      "  and should_run_async(code)\n"
     ]
    }
   ],
   "source": [
    "data['Sentiment'] = data['clean_tweets'].apply(get_tweet_sentiment)"
   ]
  },
  {
   "cell_type": "code",
   "execution_count": 80,
   "metadata": {},
   "outputs": [
    {
     "name": "stderr",
     "output_type": "stream",
     "text": [
      "/Users/akhilranjan/opt/anaconda3/lib/python3.8/site-packages/ipykernel/ipkernel.py:287: DeprecationWarning: `should_run_async` will not call `transform_cell` automatically in the future. Please pass the result to `transformed_cell` argument and any exception that happen during thetransform in `preprocessing_exc_tuple` in IPython 7.17 and above.\n",
      "  and should_run_async(code)\n"
     ]
    },
    {
     "data": {
      "text/html": [
       "<div>\n",
       "<style scoped>\n",
       "    .dataframe tbody tr th:only-of-type {\n",
       "        vertical-align: middle;\n",
       "    }\n",
       "\n",
       "    .dataframe tbody tr th {\n",
       "        vertical-align: top;\n",
       "    }\n",
       "\n",
       "    .dataframe thead th {\n",
       "        text-align: right;\n",
       "    }\n",
       "</style>\n",
       "<table border=\"1\" class=\"dataframe\">\n",
       "  <thead>\n",
       "    <tr style=\"text-align: right;\">\n",
       "      <th></th>\n",
       "      <th>topic_num</th>\n",
       "      <th>dt_prob</th>\n",
       "      <th>avg_sent_score</th>\n",
       "      <th>username</th>\n",
       "      <th>location</th>\n",
       "      <th>following</th>\n",
       "      <th>followers</th>\n",
       "      <th>totaltweets</th>\n",
       "      <th>usercreatedts</th>\n",
       "      <th>tweetcreatedts</th>\n",
       "      <th>retweetcount</th>\n",
       "      <th>text</th>\n",
       "      <th>hashtags</th>\n",
       "      <th>pol_sub</th>\n",
       "      <th>Polarity</th>\n",
       "      <th>Subjectivity</th>\n",
       "      <th>Sentiment</th>\n",
       "      <th>clean_tweets</th>\n",
       "    </tr>\n",
       "  </thead>\n",
       "  <tbody>\n",
       "    <tr>\n",
       "      <th>0</th>\n",
       "      <td>2</td>\n",
       "      <td>0.814672</td>\n",
       "      <td>0.063640</td>\n",
       "      <td>GillianMKendall</td>\n",
       "      <td>NaN</td>\n",
       "      <td>7354</td>\n",
       "      <td>7400</td>\n",
       "      <td>24122</td>\n",
       "      <td>5/26/14 13:05</td>\n",
       "      <td>3/14/21 18:30</td>\n",
       "      <td>0</td>\n",
       "      <td>@LindenmuthWendi In these times of #COVID19, i...</td>\n",
       "      <td>[{'text': 'COVID19', 'indices': [35, 43]}]</td>\n",
       "      <td>(0.125, 0.9444444444444444)</td>\n",
       "      <td>0.125000</td>\n",
       "      <td>0.944444</td>\n",
       "      <td>positive</td>\n",
       "      <td>in these times of covid19 it seems my favorit...</td>\n",
       "    </tr>\n",
       "    <tr>\n",
       "      <th>1</th>\n",
       "      <td>1</td>\n",
       "      <td>0.847489</td>\n",
       "      <td>-0.128300</td>\n",
       "      <td>blxckreject</td>\n",
       "      <td>NaN</td>\n",
       "      <td>197</td>\n",
       "      <td>61</td>\n",
       "      <td>1518</td>\n",
       "      <td>12/31/20 10:58</td>\n",
       "      <td>3/14/21 18:30</td>\n",
       "      <td>0</td>\n",
       "      <td>Reminder that asians and Hispanics are also vi...</td>\n",
       "      <td>[]</td>\n",
       "      <td>(0.0, 0.0)</td>\n",
       "      <td>0.000000</td>\n",
       "      <td>0.000000</td>\n",
       "      <td>neutral</td>\n",
       "      <td>reminder that asians and hispanics are also vi...</td>\n",
       "    </tr>\n",
       "    <tr>\n",
       "      <th>2</th>\n",
       "      <td>1</td>\n",
       "      <td>0.854007</td>\n",
       "      <td>-0.119175</td>\n",
       "      <td>guilfordghost</td>\n",
       "      <td>NaN</td>\n",
       "      <td>127</td>\n",
       "      <td>17</td>\n",
       "      <td>1079</td>\n",
       "      <td>1/20/21 17:19</td>\n",
       "      <td>3/14/21 18:30</td>\n",
       "      <td>0</td>\n",
       "      <td>@vlindy33 @biannagolodryga @maggieNYT @CNNMeri...</td>\n",
       "      <td>[]</td>\n",
       "      <td>(0.0, 0.0)</td>\n",
       "      <td>0.000000</td>\n",
       "      <td>0.000000</td>\n",
       "      <td>neutral</td>\n",
       "      <td>my point is to say that kids behavioral is...</td>\n",
       "    </tr>\n",
       "    <tr>\n",
       "      <th>3</th>\n",
       "      <td>2</td>\n",
       "      <td>0.670358</td>\n",
       "      <td>0.000000</td>\n",
       "      <td>Rickself27gmai1</td>\n",
       "      <td>Pittsburgh</td>\n",
       "      <td>4971</td>\n",
       "      <td>4337</td>\n",
       "      <td>2311</td>\n",
       "      <td>3/12/18 11:54</td>\n",
       "      <td>3/14/21 18:30</td>\n",
       "      <td>0</td>\n",
       "      <td>No Saying Much for Christie but All of the Rep...</td>\n",
       "      <td>[]</td>\n",
       "      <td>(0.2, 0.2)</td>\n",
       "      <td>0.200000</td>\n",
       "      <td>0.200000</td>\n",
       "      <td>positive</td>\n",
       "      <td>no saying much for christie but all of the rep...</td>\n",
       "    </tr>\n",
       "    <tr>\n",
       "      <th>4</th>\n",
       "      <td>1</td>\n",
       "      <td>0.531789</td>\n",
       "      <td>0.000000</td>\n",
       "      <td>CovidData2</td>\n",
       "      <td>NaN</td>\n",
       "      <td>31</td>\n",
       "      <td>83</td>\n",
       "      <td>12948</td>\n",
       "      <td>4/5/20 14:41</td>\n",
       "      <td>3/14/21 18:30</td>\n",
       "      <td>0</td>\n",
       "      <td>New COVID-19 Data at 2021-03-14 02:30:00 pm ED...</td>\n",
       "      <td>[{'text': 'Coronavirus', 'indices': [48, 60]},...</td>\n",
       "      <td>(0.13636363636363635, 0.45454545454545453)</td>\n",
       "      <td>0.136364</td>\n",
       "      <td>0.454545</td>\n",
       "      <td>positive</td>\n",
       "      <td>new covid19 data at 20210314 023000 pm edt cor...</td>\n",
       "    </tr>\n",
       "    <tr>\n",
       "      <th>...</th>\n",
       "      <td>...</td>\n",
       "      <td>...</td>\n",
       "      <td>...</td>\n",
       "      <td>...</td>\n",
       "      <td>...</td>\n",
       "      <td>...</td>\n",
       "      <td>...</td>\n",
       "      <td>...</td>\n",
       "      <td>...</td>\n",
       "      <td>...</td>\n",
       "      <td>...</td>\n",
       "      <td>...</td>\n",
       "      <td>...</td>\n",
       "      <td>...</td>\n",
       "      <td>...</td>\n",
       "      <td>...</td>\n",
       "      <td>...</td>\n",
       "      <td>...</td>\n",
       "    </tr>\n",
       "    <tr>\n",
       "      <th>15695</th>\n",
       "      <td>1</td>\n",
       "      <td>0.894024</td>\n",
       "      <td>-0.063633</td>\n",
       "      <td>djvlad</td>\n",
       "      <td>New York</td>\n",
       "      <td>863</td>\n",
       "      <td>166074</td>\n",
       "      <td>241380</td>\n",
       "      <td>12/12/08 22:43</td>\n",
       "      <td>3/14/21 17:25</td>\n",
       "      <td>10</td>\n",
       "      <td>Marvin Hagler Was Allegedly in ICU Fighting Af...</td>\n",
       "      <td>[]</td>\n",
       "      <td>(-0.1, 0.1)</td>\n",
       "      <td>-0.100000</td>\n",
       "      <td>0.100000</td>\n",
       "      <td>negative</td>\n",
       "      <td>marvin hagler was allegedly in icu fighting af...</td>\n",
       "    </tr>\n",
       "    <tr>\n",
       "      <th>15696</th>\n",
       "      <td>1</td>\n",
       "      <td>0.836081</td>\n",
       "      <td>0.000000</td>\n",
       "      <td>NumbersMan3</td>\n",
       "      <td>NaN</td>\n",
       "      <td>3</td>\n",
       "      <td>23</td>\n",
       "      <td>4014</td>\n",
       "      <td>4/25/20 14:49</td>\n",
       "      <td>3/14/21 17:25</td>\n",
       "      <td>0</td>\n",
       "      <td>@jdpoc Or, to paraphrase: know your rights and...</td>\n",
       "      <td>[]</td>\n",
       "      <td>(0.0, 0.0)</td>\n",
       "      <td>0.000000</td>\n",
       "      <td>0.000000</td>\n",
       "      <td>neutral</td>\n",
       "      <td>or to paraphrase know your rights and ignore ...</td>\n",
       "    </tr>\n",
       "    <tr>\n",
       "      <th>15697</th>\n",
       "      <td>1</td>\n",
       "      <td>0.670566</td>\n",
       "      <td>0.042500</td>\n",
       "      <td>EwanKing_</td>\n",
       "      <td>NaN</td>\n",
       "      <td>1489</td>\n",
       "      <td>475</td>\n",
       "      <td>3856</td>\n",
       "      <td>9/18/13 15:18</td>\n",
       "      <td>3/14/21 17:25</td>\n",
       "      <td>0</td>\n",
       "      <td>Baffling how the SFA are planning on making pa...</td>\n",
       "      <td>[]</td>\n",
       "      <td>(-0.3333333333333333, 0.6666666666666666)</td>\n",
       "      <td>-0.333333</td>\n",
       "      <td>0.666667</td>\n",
       "      <td>negative</td>\n",
       "      <td>baffling how the sfa are planning on making pa...</td>\n",
       "    </tr>\n",
       "    <tr>\n",
       "      <th>15698</th>\n",
       "      <td>0</td>\n",
       "      <td>0.496557</td>\n",
       "      <td>-0.054543</td>\n",
       "      <td>Mix1041</td>\n",
       "      <td>Boston, MA</td>\n",
       "      <td>3457</td>\n",
       "      <td>14016</td>\n",
       "      <td>61104</td>\n",
       "      <td>8/7/09 15:54</td>\n",
       "      <td>3/14/21 17:25</td>\n",
       "      <td>0</td>\n",
       "      <td>As more nursing home residents get vaccinated,...</td>\n",
       "      <td>[]</td>\n",
       "      <td>(0.5, 0.5)</td>\n",
       "      <td>0.500000</td>\n",
       "      <td>0.500000</td>\n",
       "      <td>positive</td>\n",
       "      <td>as more nursing home residents get vaccinated ...</td>\n",
       "    </tr>\n",
       "    <tr>\n",
       "      <th>15699</th>\n",
       "      <td>2</td>\n",
       "      <td>0.916103</td>\n",
       "      <td>0.000000</td>\n",
       "      <td>YVFWC</td>\n",
       "      <td>Over 60 locations in WA &amp; OR</td>\n",
       "      <td>1237</td>\n",
       "      <td>757</td>\n",
       "      <td>2266</td>\n",
       "      <td>6/27/13 15:42</td>\n",
       "      <td>3/14/21 17:25</td>\n",
       "      <td>0</td>\n",
       "      <td>We can do it! We can slow the spread of COVID-...</td>\n",
       "      <td>[]</td>\n",
       "      <td>(-0.30000000000000004, 0.39999999999999997)</td>\n",
       "      <td>-0.300000</td>\n",
       "      <td>0.400000</td>\n",
       "      <td>negative</td>\n",
       "      <td>we can do it we can slow the spread of covid19...</td>\n",
       "    </tr>\n",
       "  </tbody>\n",
       "</table>\n",
       "<p>15700 rows × 18 columns</p>\n",
       "</div>"
      ],
      "text/plain": [
       "       topic_num   dt_prob  avg_sent_score         username  \\\n",
       "0              2  0.814672        0.063640  GillianMKendall   \n",
       "1              1  0.847489       -0.128300      blxckreject   \n",
       "2              1  0.854007       -0.119175    guilfordghost   \n",
       "3              2  0.670358        0.000000  Rickself27gmai1   \n",
       "4              1  0.531789        0.000000       CovidData2   \n",
       "...          ...       ...             ...              ...   \n",
       "15695          1  0.894024       -0.063633           djvlad   \n",
       "15696          1  0.836081        0.000000      NumbersMan3   \n",
       "15697          1  0.670566        0.042500        EwanKing_   \n",
       "15698          0  0.496557       -0.054543          Mix1041   \n",
       "15699          2  0.916103        0.000000            YVFWC   \n",
       "\n",
       "                           location  following  followers  totaltweets  \\\n",
       "0                               NaN       7354       7400        24122   \n",
       "1                               NaN        197         61         1518   \n",
       "2                               NaN        127         17         1079   \n",
       "3                       Pittsburgh        4971       4337         2311   \n",
       "4                               NaN         31         83        12948   \n",
       "...                             ...        ...        ...          ...   \n",
       "15695                      New York        863     166074       241380   \n",
       "15696                           NaN          3         23         4014   \n",
       "15697                           NaN       1489        475         3856   \n",
       "15698                    Boston, MA       3457      14016        61104   \n",
       "15699  Over 60 locations in WA & OR       1237        757         2266   \n",
       "\n",
       "        usercreatedts tweetcreatedts  retweetcount  \\\n",
       "0       5/26/14 13:05  3/14/21 18:30             0   \n",
       "1      12/31/20 10:58  3/14/21 18:30             0   \n",
       "2       1/20/21 17:19  3/14/21 18:30             0   \n",
       "3       3/12/18 11:54  3/14/21 18:30             0   \n",
       "4        4/5/20 14:41  3/14/21 18:30             0   \n",
       "...               ...            ...           ...   \n",
       "15695  12/12/08 22:43  3/14/21 17:25            10   \n",
       "15696   4/25/20 14:49  3/14/21 17:25             0   \n",
       "15697   9/18/13 15:18  3/14/21 17:25             0   \n",
       "15698    8/7/09 15:54  3/14/21 17:25             0   \n",
       "15699   6/27/13 15:42  3/14/21 17:25             0   \n",
       "\n",
       "                                                    text  \\\n",
       "0      @LindenmuthWendi In these times of #COVID19, i...   \n",
       "1      Reminder that asians and Hispanics are also vi...   \n",
       "2      @vlindy33 @biannagolodryga @maggieNYT @CNNMeri...   \n",
       "3      No Saying Much for Christie but All of the Rep...   \n",
       "4      New COVID-19 Data at 2021-03-14 02:30:00 pm ED...   \n",
       "...                                                  ...   \n",
       "15695  Marvin Hagler Was Allegedly in ICU Fighting Af...   \n",
       "15696  @jdpoc Or, to paraphrase: know your rights and...   \n",
       "15697  Baffling how the SFA are planning on making pa...   \n",
       "15698  As more nursing home residents get vaccinated,...   \n",
       "15699  We can do it! We can slow the spread of COVID-...   \n",
       "\n",
       "                                                hashtags  \\\n",
       "0             [{'text': 'COVID19', 'indices': [35, 43]}]   \n",
       "1                                                     []   \n",
       "2                                                     []   \n",
       "3                                                     []   \n",
       "4      [{'text': 'Coronavirus', 'indices': [48, 60]},...   \n",
       "...                                                  ...   \n",
       "15695                                                 []   \n",
       "15696                                                 []   \n",
       "15697                                                 []   \n",
       "15698                                                 []   \n",
       "15699                                                 []   \n",
       "\n",
       "                                           pol_sub  Polarity  Subjectivity  \\\n",
       "0                      (0.125, 0.9444444444444444)  0.125000      0.944444   \n",
       "1                                       (0.0, 0.0)  0.000000      0.000000   \n",
       "2                                       (0.0, 0.0)  0.000000      0.000000   \n",
       "3                                       (0.2, 0.2)  0.200000      0.200000   \n",
       "4       (0.13636363636363635, 0.45454545454545453)  0.136364      0.454545   \n",
       "...                                            ...       ...           ...   \n",
       "15695                                  (-0.1, 0.1) -0.100000      0.100000   \n",
       "15696                                   (0.0, 0.0)  0.000000      0.000000   \n",
       "15697    (-0.3333333333333333, 0.6666666666666666) -0.333333      0.666667   \n",
       "15698                                   (0.5, 0.5)  0.500000      0.500000   \n",
       "15699  (-0.30000000000000004, 0.39999999999999997) -0.300000      0.400000   \n",
       "\n",
       "      Sentiment                                       clean_tweets  \n",
       "0      positive   in these times of covid19 it seems my favorit...  \n",
       "1       neutral  reminder that asians and hispanics are also vi...  \n",
       "2       neutral      my point is to say that kids behavioral is...  \n",
       "3      positive  no saying much for christie but all of the rep...  \n",
       "4      positive  new covid19 data at 20210314 023000 pm edt cor...  \n",
       "...         ...                                                ...  \n",
       "15695  negative  marvin hagler was allegedly in icu fighting af...  \n",
       "15696   neutral   or to paraphrase know your rights and ignore ...  \n",
       "15697  negative  baffling how the sfa are planning on making pa...  \n",
       "15698  positive  as more nursing home residents get vaccinated ...  \n",
       "15699  negative  we can do it we can slow the spread of covid19...  \n",
       "\n",
       "[15700 rows x 18 columns]"
      ]
     },
     "execution_count": 80,
     "metadata": {},
     "output_type": "execute_result"
    }
   ],
   "source": [
    "data"
   ]
  },
  {
   "cell_type": "markdown",
   "metadata": {},
   "source": [
    "#### Plotting the polarity of the tweets"
   ]
  },
  {
   "cell_type": "code",
   "execution_count": 81,
   "metadata": {},
   "outputs": [
    {
     "name": "stderr",
     "output_type": "stream",
     "text": [
      "/Users/akhilranjan/opt/anaconda3/lib/python3.8/site-packages/ipykernel/ipkernel.py:287: DeprecationWarning: `should_run_async` will not call `transform_cell` automatically in the future. Please pass the result to `transformed_cell` argument and any exception that happen during thetransform in `preprocessing_exc_tuple` in IPython 7.17 and above.\n",
      "  and should_run_async(code)\n"
     ]
    },
    {
     "data": {
      "text/plain": [
       "<BarContainer object of 1212 artists>"
      ]
     },
     "execution_count": 81,
     "metadata": {},
     "output_type": "execute_result"
    },
    {
     "data": {
      "image/png": "[encoded data removed]",
      "text/plain": [
       "<Figure size 432x288 with 1 Axes>"
      ]
     },
     "metadata": {
      "needs_background": "light"
     },
     "output_type": "display_data"
    }
   ],
   "source": [
    "plt.bar(data.Polarity.value_counts().index,\n",
    "        data.Polarity.value_counts())"
   ]
  },
  {
   "cell_type": "markdown",
   "metadata": {},
   "source": [
    "#### Plotting the sentiment of the tweets"
   ]
  },
  {
   "cell_type": "code",
   "execution_count": 82,
   "metadata": {},
   "outputs": [
    {
     "name": "stderr",
     "output_type": "stream",
     "text": [
      "/Users/akhilranjan/opt/anaconda3/lib/python3.8/site-packages/ipykernel/ipkernel.py:287: DeprecationWarning: `should_run_async` will not call `transform_cell` automatically in the future. Please pass the result to `transformed_cell` argument and any exception that happen during thetransform in `preprocessing_exc_tuple` in IPython 7.17 and above.\n",
      "  and should_run_async(code)\n"
     ]
    },
    {
     "data": {
      "text/plain": [
       "<BarContainer object of 3 artists>"
      ]
     },
     "execution_count": 82,
     "metadata": {},
     "output_type": "execute_result"
    },
    {
     "data": {
      "image/png": "[encoded data removed]",
      "text/plain": [
       "<Figure size 432x288 with 1 Axes>"
      ]
     },
     "metadata": {
      "needs_background": "light"
     },
     "output_type": "display_data"
    }
   ],
   "source": [
    "plt.bar(data.Sentiment.value_counts().index,\n",
    "        data.Sentiment.value_counts())"
   ]
  },
  {
   "cell_type": "markdown",
   "metadata": {},
   "source": [
    "#### The length of tweets"
   ]
  },
  {
   "cell_type": "code",
   "execution_count": 83,
   "metadata": {},
   "outputs": [
    {
     "name": "stderr",
     "output_type": "stream",
     "text": [
      "/Users/akhilranjan/opt/anaconda3/lib/python3.8/site-packages/ipykernel/ipkernel.py:287: DeprecationWarning: `should_run_async` will not call `transform_cell` automatically in the future. Please pass the result to `transformed_cell` argument and any exception that happen during thetransform in `preprocessing_exc_tuple` in IPython 7.17 and above.\n",
      "  and should_run_async(code)\n"
     ]
    },
    {
     "data": {
      "text/plain": [
       "<AxesSubplot:>"
      ]
     },
     "execution_count": 83,
     "metadata": {},
     "output_type": "execute_result"
    },
    {
     "data": {
      "image/png": "[encoded data removed]",
      "text/plain": [
       "<Figure size 432x288 with 1 Axes>"
      ]
     },
     "metadata": {
      "needs_background": "light"
     },
     "output_type": "display_data"
    }
   ],
   "source": [
    "data['clean_tweets'].str.len().hist()"
   ]
  },
  {
   "cell_type": "markdown",
   "metadata": {},
   "source": [
    "#### The average word length of tweets"
   ]
  },
  {
   "cell_type": "code",
   "execution_count": 84,
   "metadata": {},
   "outputs": [
    {
     "name": "stderr",
     "output_type": "stream",
     "text": [
      "/Users/akhilranjan/opt/anaconda3/lib/python3.8/site-packages/ipykernel/ipkernel.py:287: DeprecationWarning: `should_run_async` will not call `transform_cell` automatically in the future. Please pass the result to `transformed_cell` argument and any exception that happen during thetransform in `preprocessing_exc_tuple` in IPython 7.17 and above.\n",
      "  and should_run_async(code)\n"
     ]
    },
    {
     "data": {
      "text/plain": [
       "<AxesSubplot:>"
      ]
     },
     "execution_count": 84,
     "metadata": {},
     "output_type": "execute_result"
    },
    {
     "data": {
      "image/png": "[encoded data removed]",
      "text/plain": [
       "<Figure size 432x288 with 1 Axes>"
      ]
     },
     "metadata": {
      "needs_background": "light"
     },
     "output_type": "display_data"
    }
   ],
   "source": [
    "data['clean_tweets'].str.split().\\\n",
    "   apply(lambda x : [len(i) for i in x]). \\\n",
    "   map(lambda x: np.mean(x)).hist()"
   ]
  },
  {
   "cell_type": "code",
   "execution_count": 85,
   "metadata": {},
   "outputs": [
    {
     "name": "stderr",
     "output_type": "stream",
     "text": [
      "/Users/akhilranjan/opt/anaconda3/lib/python3.8/site-packages/ipykernel/ipkernel.py:287: DeprecationWarning: `should_run_async` will not call `transform_cell` automatically in the future. Please pass the result to `transformed_cell` argument and any exception that happen during thetransform in `preprocessing_exc_tuple` in IPython 7.17 and above.\n",
      "  and should_run_async(code)\n"
     ]
    }
   ],
   "source": [
    "import nltk\n",
    "from nltk.corpus import stopwords\n",
    "#nltk.download('stopwords')\n",
    "stop=set(stopwords.words('english'))"
   ]
  },
  {
   "cell_type": "code",
   "execution_count": 89,
   "metadata": {},
   "outputs": [
    {
     "name": "stderr",
     "output_type": "stream",
     "text": [
      "/Users/akhilranjan/opt/anaconda3/lib/python3.8/site-packages/ipykernel/ipkernel.py:287: DeprecationWarning: `should_run_async` will not call `transform_cell` automatically in the future. Please pass the result to `transformed_cell` argument and any exception that happen during thetransform in `preprocessing_exc_tuple` in IPython 7.17 and above.\n",
      "  and should_run_async(code)\n"
     ]
    }
   ],
   "source": [
    "corpus=[]\n",
    "new= data['clean_tweets'].str.split()\n",
    "new=new.values.tolist()\n",
    "corpus=[word for i in new for word in i]\n",
    "\n",
    "from collections import defaultdict\n",
    "dic=defaultdict(int)\n",
    "for word in corpus:\n",
    "    if word in stop:\n",
    "        dic[word]+=1"
   ]
  },
  {
   "cell_type": "markdown",
   "metadata": {},
   "source": [
    "#### Stop words that occur in the tweets"
   ]
  },
  {
   "cell_type": "code",
   "execution_count": 90,
   "metadata": {},
   "outputs": [
    {
     "name": "stderr",
     "output_type": "stream",
     "text": [
      "/Users/akhilranjan/opt/anaconda3/lib/python3.8/site-packages/ipykernel/ipkernel.py:287: DeprecationWarning: `should_run_async` will not call `transform_cell` automatically in the future. Please pass the result to `transformed_cell` argument and any exception that happen during thetransform in `preprocessing_exc_tuple` in IPython 7.17 and above.\n",
      "  and should_run_async(code)\n"
     ]
    },
    {
     "data": {
      "text/plain": [
       "<BarContainer object of 10 artists>"
      ]
     },
     "execution_count": 90,
     "metadata": {},
     "output_type": "execute_result"
    },
    {
     "data": {
      "image/png": "[encoded data removed]",
      "text/plain": [
       "<Figure size 432x288 with 1 Axes>"
      ]
     },
     "metadata": {
      "needs_background": "light"
     },
     "output_type": "display_data"
    }
   ],
   "source": [
    "from matplotlib import pyplot as plt\n",
    "top=sorted(dic.items(), key=lambda x:x[1],reverse=True)[:10] \n",
    "x,y=zip(*top)\n",
    "plt.bar(x,y)"
   ]
  },
  {
   "cell_type": "code",
   "execution_count": 91,
   "metadata": {},
   "outputs": [
    {
     "name": "stderr",
     "output_type": "stream",
     "text": [
      "/Users/akhilranjan/opt/anaconda3/lib/python3.8/site-packages/ipykernel/ipkernel.py:287: DeprecationWarning: `should_run_async` will not call `transform_cell` automatically in the future. Please pass the result to `transformed_cell` argument and any exception that happen during thetransform in `preprocessing_exc_tuple` in IPython 7.17 and above.\n",
      "  and should_run_async(code)\n"
     ]
    }
   ],
   "source": [
    "import seaborn as sns\n",
    "from nltk.corpus import stopwords\n",
    "from collections import  Counter\n",
    "\n",
    "def plot_top_non_stopwords_barchart(text):\n",
    "    stop=set(stopwords.words('english'))\n",
    "    \n",
    "    new= text.str.split()\n",
    "    new=new.values.tolist()\n",
    "    corpus=[word for i in new for word in i]\n",
    "\n",
    "    counter=Counter(corpus)\n",
    "    most=counter.most_common()\n",
    "    x, y=[], []\n",
    "    for word,count in most[:40]:\n",
    "        if (word not in stop):\n",
    "            x.append(word)\n",
    "            y.append(count)\n",
    "            \n",
    "    sns.barplot(x=y,y=x)"
   ]
  },
  {
   "cell_type": "markdown",
   "metadata": {},
   "source": [
    "#### Words other than stop words that frequently occur in the tweets"
   ]
  },
  {
   "cell_type": "code",
   "execution_count": 92,
   "metadata": {},
   "outputs": [
    {
     "name": "stderr",
     "output_type": "stream",
     "text": [
      "/Users/akhilranjan/opt/anaconda3/lib/python3.8/site-packages/ipykernel/ipkernel.py:287: DeprecationWarning: `should_run_async` will not call `transform_cell` automatically in the future. Please pass the result to `transformed_cell` argument and any exception that happen during thetransform in `preprocessing_exc_tuple` in IPython 7.17 and above.\n",
      "  and should_run_async(code)\n"
     ]
    },
    {
     "data": {
      "image/png": "[encoded data removed]",
      "text/plain": [
       "<Figure size 432x288 with 1 Axes>"
      ]
     },
     "metadata": {
      "needs_background": "light"
     },
     "output_type": "display_data"
    }
   ],
   "source": [
    "plot_top_non_stopwords_barchart(data['clean_tweets'])"
   ]
  },
  {
   "cell_type": "code",
   "execution_count": 93,
   "metadata": {},
   "outputs": [
    {
     "name": "stderr",
     "output_type": "stream",
     "text": [
      "/Users/akhilranjan/opt/anaconda3/lib/python3.8/site-packages/ipykernel/ipkernel.py:287: DeprecationWarning: `should_run_async` will not call `transform_cell` automatically in the future. Please pass the result to `transformed_cell` argument and any exception that happen during thetransform in `preprocessing_exc_tuple` in IPython 7.17 and above.\n",
      "  and should_run_async(code)\n"
     ]
    }
   ],
   "source": [
    "import numpy as np\n",
    "import nltk\n",
    "from nltk.corpus import stopwords\n",
    "import gensim\n",
    "from nltk.stem import WordNetLemmatizer,PorterStemmer\n",
    "from nltk.tokenize import word_tokenize\n",
    "import pyLDAvis.gensim\n",
    "\n",
    "\n",
    "def get_lda_objects(text):\n",
    "    nltk.download('stopwords')    \n",
    "    stop=set(stopwords.words('english'))\n",
    "\n",
    "    \n",
    "    def _preprocess_text(text):\n",
    "        corpus=[]\n",
    "        stem=PorterStemmer()\n",
    "        lem=WordNetLemmatizer()\n",
    "        for news in text:\n",
    "            words=[w for w in word_tokenize(news) if (w not in stop)]\n",
    "\n",
    "            words=[lem.lemmatize(w) for w in words if len(w)>2]\n",
    "\n",
    "            corpus.append(words)\n",
    "        return corpus\n",
    "    \n",
    "    corpus=_preprocess_text(text)\n",
    "    \n",
    "    dic=gensim.corpora.Dictionary(corpus)\n",
    "    bow_corpus = [dic.doc2bow(doc) for doc in corpus]\n",
    "    \n",
    "    lda_model =  gensim.models.LdaMulticore(bow_corpus, \n",
    "                                   num_topics = 3, \n",
    "                                   id2word = dic,                                    \n",
    "                                   passes = 10,\n",
    "                                   workers = 2)\n",
    "    \n",
    "    return lda_model, bow_corpus, dic\n",
    "\n",
    "def plot_lda_vis(lda_model, bow_corpus, dic):\n",
    "    pyLDAvis.enable_notebook()\n",
    "    vis = pyLDAvis.gensim.prepare(lda_model, bow_corpus, dic)\n",
    "    return vis"
   ]
  },
  {
   "cell_type": "markdown",
   "metadata": {},
   "source": [
    "### LDA visualisation: allows sets of observations to be explained by unobserved groups that explain why some parts of the data are similar"
   ]
  },
  {
   "cell_type": "code",
   "execution_count": 94,
   "metadata": {},
   "outputs": [
    {
     "name": "stderr",
     "output_type": "stream",
     "text": [
      "/Users/akhilranjan/opt/anaconda3/lib/python3.8/site-packages/ipykernel/ipkernel.py:287: DeprecationWarning: `should_run_async` will not call `transform_cell` automatically in the future. Please pass the result to `transformed_cell` argument and any exception that happen during thetransform in `preprocessing_exc_tuple` in IPython 7.17 and above.\n",
      "  and should_run_async(code)\n",
      "[nltk_data] Downloading package stopwords to\n",
      "[nltk_data]     /Users/akhilranjan/nltk_data...\n",
      "[nltk_data]   Package stopwords is already up-to-date!\n"
     ]
    }
   ],
   "source": [
    "lda_model, bow_corpus, dic = get_lda_objects(data['clean_tweets'])"
   ]
  },
  {
   "cell_type": "code",
   "execution_count": 95,
   "metadata": {},
   "outputs": [
    {
     "name": "stderr",
     "output_type": "stream",
     "text": [
      "/Users/akhilranjan/opt/anaconda3/lib/python3.8/site-packages/ipykernel/ipkernel.py:287: DeprecationWarning: `should_run_async` will not call `transform_cell` automatically in the future. Please pass the result to `transformed_cell` argument and any exception that happen during thetransform in `preprocessing_exc_tuple` in IPython 7.17 and above.\n",
      "  and should_run_async(code)\n"
     ]
    },
    {
     "data": {
      "text/plain": [
       "[(0,\n",
       "  '0.036*\"covid19\" + 0.015*\"covid\" + 0.011*\"vaccine\" + 0.006*\"pandemic\" + 0.005*\"world\" + 0.005*\"vaccination\" + 0.004*\"people\" + 0.004*\"via\" + 0.004*\"check\" + 0.004*\"corona\"'),\n",
       " (1,\n",
       "  '0.058*\"covid\" + 0.012*\"people\" + 0.009*\"vaccine\" + 0.008*\"covid19\" + 0.007*\"like\" + 0.006*\"get\" + 0.006*\"day\" + 0.006*\"amp\" + 0.005*\"due\" + 0.005*\"would\"'),\n",
       " (2,\n",
       "  '0.041*\"covid\" + 0.016*\"covid19\" + 0.015*\"new\" + 0.011*\"case\" + 0.011*\"relief\" + 0.011*\"vaccine\" + 0.010*\"coronavirus\" + 0.010*\"death\" + 0.008*\"bill\" + 0.007*\"year\"')]"
      ]
     },
     "execution_count": 95,
     "metadata": {},
     "output_type": "execute_result"
    }
   ],
   "source": [
    "lda_model.show_topics()"
   ]
  },
  {
   "cell_type": "code",
   "execution_count": 96,
   "metadata": {},
   "outputs": [
    {
     "name": "stderr",
     "output_type": "stream",
     "text": [
      "/Users/akhilranjan/opt/anaconda3/lib/python3.8/site-packages/ipykernel/ipkernel.py:287: DeprecationWarning: `should_run_async` will not call `transform_cell` automatically in the future. Please pass the result to `transformed_cell` argument and any exception that happen during thetransform in `preprocessing_exc_tuple` in IPython 7.17 and above.\n",
      "  and should_run_async(code)\n"
     ]
    },
    {
     "data": {
      "text/html": [
       "\n",
       "<link rel=\"stylesheet\" type=\"text/css\" href=\"https://cdn.jsdelivr.net/gh/bmabey/pyLDAvis@3.2.2/pyLDAvis/js/ldavis.v1.0.0.css\">\n",
       "\n",
       "\n",
       "<div id=\"ldavis_el129701403098414182726517000237\"></div>\n",
       "<script type=\"text/javascript\">\n",
       "\n",
       "var ldavis_el129701403098414182726517000237_data = {\"mdsDat\": {\"x\": [0.1309203970717327, 0.003099369891387026, -0.13401976696311968], \"y\": [0.07260883700128615, -0.14029403646197444, 0.06768519946068825], \"topics\": [1, 2, 3], \"cluster\": [1, 1, 1], \"Freq\": [40.04139336965806, 31.57917173692086, 28.37943489342108]}, \"tinfo\": {\"Term\": [\"new\", \"covid19\", \"relief\", \"bill\", \"case\", \"covid\", \"death\", \"coronavirus\", \"fauci\", \"voted\", \"world\", \"like\", \"another\", \"would\", \"issue\", \"people\", \"due\", \"biden\", \"check\", \"vaccination\", \"pandemic\", \"reported\", \"worker\", \"patient\", \"trump\", \"credit\", \"group\", \"take\", \"pushed\", \"via\", \"fauci\", \"issue\", \"pushed\", \"aside\", \"obsession\", \"kill\", \"affect\", \"urge\", \"seen\", \"side\", \"supporter\", \"happy\", \"myanmar\", \"military\", \"clot\", \"cry\", \"suspends\", \"wish\", \"he\", \"mother\", \"second\", \"line\", \"shit\", \"civilian\", \"concert\", \"anthony\", \"fucking\", \"trip\", \"birthday\", \"donald\", \"ive\", \"effect\", \"another\", \"would\", \"surge\", \"gon\", \"thing\", \"like\", \"due\", \"said\", \"people\", \"covid\", \"day\", \"amp\", \"really\", \"could\", \"vaccinated\", \"feel\", \"trump\", \"mask\", \"corona\", \"got\", \"think\", \"right\", \"get\", \"time\", \"say\", \"vaccine\", \"many\", \"year\", \"covid19\", \"one\", \"today\", \"know\", \"bill\", \"relief\", \"voted\", \"reported\", \"vote\", \"package\", \"economy\", \"384\", \"dead\", \"trillion\", \"fake\", \"enriched\", \"appendage\", \"chained\", \"cadre\", \"half\", \"pover\\u2026\", \"claim\", \"confirmed\", \"conference\", \"bipartisan\", \"chris\", \"cdc\", \"gop\", \"christie\", \"white\", \"rep\", \"it\\u2026\", \"calling\", \"diego\", \"new\", \"credit\", \"press\", \"governor\", \"better\", \"death\", \"received\", \"daily\", \"coronavirus\", \"case\", \"though\", \"biden\", \"million\", \"republican\", \"covid\", \"american\", \"year\", \"vaccine\", \"covid19\", \"first\", \"one\", \"nothing\", \"take\", \"state\", \"today\", \"need\", \"since\", \"get\", \"number\", \"last\", \"still\", \"got\", \"trump\", \"know\", \"worker\", \"group\", \"rollout\", \"approach\", \"payment\", \"university\", \"crime\", \"frustrates\", \"attention\", \"patchwork\", \"quilt\", \"safety\", \"irs\", \"duke\", \"pharmacy\", \"glass\", \"global\", \"greedy\", \"ravage\", \"nursing\", \"syndicate\\u2026\", \"despite\", \"ordered\", \"common\", \"tool\", \"undergrad\", \"drive\", \"distancing\", \"impact\", \"warning\", \"world\", \"social\", \"stay\", \"area\", \"check\", \"patient\", \"site\", \"covid19\", \"vaccination\", \"pandemic\", \"spike\", \"home\", \"student\", \"via\", \"vaccine\", \"stimulus\", \"take\", \"health\", \"covid\", \"country\", \"police\", \"life\", \"corona\", \"government\", \"lockdown\", \"case\", \"people\", \"get\", \"one\", \"year\", \"see\", \"school\", \"coronavirus\"], \"Freq\": [663.0, 2570.0, 494.0, 367.0, 647.0, 5618.0, 487.0, 577.0, 263.0, 195.0, 192.0, 491.0, 282.0, 304.0, 208.0, 868.0, 336.0, 236.0, 152.0, 237.0, 339.0, 131.0, 118.0, 142.0, 394.0, 129.0, 103.0, 283.0, 138.0, 248.0, 262.26367377783083, 207.6493623196895, 138.02484160223278, 131.69733218407168, 107.51057592065226, 102.30506628463357, 80.1562071211765, 76.33936632056985, 106.6656729757694, 71.26336574853046, 63.22685192582143, 81.20655229824841, 55.21413882423654, 55.70331905220388, 51.97210129729486, 54.200533623531406, 51.385158167097856, 65.9115176019938, 43.997137938869066, 41.82567976203005, 101.21467349766363, 46.68723434798219, 56.2384501420859, 34.769503855224, 36.07696737465483, 33.313614326617994, 44.383729744454975, 37.929306880799984, 32.69779898631105, 32.77187767896953, 75.83863203026729, 71.93460175086213, 272.4173708122916, 287.29392837463354, 64.9165930869466, 64.81275540180287, 184.33028700975663, 412.6305841851348, 290.28454691601524, 170.6782011403856, 642.5183383238672, 3227.640116668022, 334.7785224810268, 330.2114767366377, 158.84807115329332, 203.00774918140587, 153.66860184936124, 98.90711688123902, 282.6711901079295, 195.5344263142501, 277.8681955230679, 245.85892479540706, 213.32401866943042, 142.23118052438528, 361.34033438721906, 235.2093545915478, 207.56388167700104, 492.7522132665383, 160.78476502378163, 246.28502049031053, 455.3807442827195, 201.21835180531542, 167.51190906859614, 158.52146337888973, 367.25486032228775, 493.05665382330756, 194.88600155755483, 130.68965236717733, 70.44563634554258, 68.35720769846331, 96.053587376416, 54.2962809698855, 55.082932194345354, 51.76543024438135, 80.90674942428501, 41.04639417044614, 41.04639417044614, 41.04639417044614, 41.04639417044614, 43.260446980598815, 39.19848332994601, 39.74879511617406, 57.71009724557865, 39.73619364730978, 36.63643650307275, 34.98968461764533, 50.4756442539524, 63.09360197560927, 24.71373681281225, 39.85537286226036, 23.207142767531998, 27.80244948555328, 28.148151397951374, 19.994620727010773, 640.4090061509195, 125.60601001554974, 51.60711168902872, 60.21934399448421, 88.69812761227246, 423.2954939404997, 57.28579759553871, 68.88181881829588, 456.8945782643471, 498.2602717557528, 58.31327292114196, 190.67059198757573, 113.27151770328959, 132.74576693772798, 1784.265647958494, 122.72963860193134, 290.4646485826412, 474.6599080266336, 696.7740669715874, 166.77875835111408, 230.7043941957866, 72.50049510837981, 138.17483808910052, 115.3201688962913, 137.46731806531525, 118.74258183942115, 114.35191051977684, 181.79092879316212, 96.7524086345765, 123.29686550547024, 114.54697931793034, 125.6244183188613, 110.7057800269171, 102.74212135635652, 118.02041406393076, 103.16995365296515, 77.05569148588634, 64.8533558041031, 63.370243919675694, 58.57685684465886, 55.85737109320725, 49.14909551319634, 50.859645137258596, 47.81886274841537, 47.81884439778284, 49.09231865613403, 46.76384818273143, 60.10806573695967, 46.521101427904526, 42.37074804285175, 46.20012592658227, 41.13369061476563, 40.19922594186015, 39.80790329071618, 37.79002644827934, 47.546883435960716, 36.66232961478366, 39.186872009161206, 33.000520532043595, 32.16090339722268, 35.12719368712043, 29.724478446447613, 43.013345905293114, 26.55968018910594, 186.97017239343467, 74.89110592399285, 101.928845322747, 51.90709924233825, 142.49149636664026, 132.71088448514274, 49.686163475588884, 1418.8343531216078, 178.19244093059007, 234.8330261956938, 71.08151002213472, 121.70282631934913, 65.846042446383, 153.72006490828687, 449.97057540076884, 64.23581573038784, 139.45635679730145, 116.22032711607365, 606.302586766196, 100.51492908594975, 100.36202244035451, 85.58779973225424, 140.91812230843288, 85.14962332859109, 93.43057564277306, 140.22183508285318, 155.33127797078075, 130.27599410601337, 121.50440092975161, 122.65653621812537, 91.29416747713657, 79.5477807866263, 84.067147041319], \"Total\": [663.0, 2570.0, 494.0, 367.0, 647.0, 5618.0, 487.0, 577.0, 263.0, 195.0, 192.0, 491.0, 282.0, 304.0, 208.0, 868.0, 336.0, 236.0, 152.0, 237.0, 339.0, 131.0, 118.0, 142.0, 394.0, 129.0, 103.0, 283.0, 138.0, 248.0, 263.0881184810597, 208.3280119420711, 138.61646731467698, 132.27802615074478, 108.08800773488156, 102.98622001125946, 80.75525403737232, 76.93033942753169, 107.55173295776419, 71.9197671615138, 63.820106408018155, 81.98684029723496, 55.79342970134294, 56.28895460478824, 52.613664689848704, 54.90997890145977, 52.0613009318621, 66.81902917273456, 44.61573528545743, 42.42219174203509, 102.66292922330312, 47.444161441658565, 57.15585238731397, 35.35451373050445, 36.694345907839846, 33.89573835531474, 45.15992798639801, 38.6022695335793, 33.28057075139235, 33.370343133530035, 77.22876045603286, 73.30118406794207, 282.7089404989825, 304.42739338451344, 67.09873078481355, 67.14027120877923, 199.45933708430184, 491.3344595157394, 336.639311446738, 198.91323776354673, 868.4881314322097, 5618.208351392712, 431.29616748677523, 425.2106196304761, 185.9211520891436, 251.0621994755793, 183.18471957719103, 110.48546564774328, 394.30043496550854, 262.6205068729576, 439.82028024602494, 373.89368952238254, 312.09074428612735, 181.72368910299195, 673.4072572863946, 370.41595413446447, 313.54719731156035, 1417.3826966939407, 249.59304999838156, 659.4062052910771, 2570.9891643759147, 553.4271469308536, 320.0590738923041, 337.01016962205716, 367.8772359710302, 494.10498049442845, 195.49294470946106, 131.39718556544923, 71.08061761319283, 68.99418783293437, 97.038929728437, 54.88546395298953, 55.71243663364727, 52.399643808750206, 81.90335192421311, 41.633209522288766, 41.63320956204724, 41.63320970221919, 41.63320974959607, 43.89754071410288, 39.78529569773215, 40.35183091391551, 58.60824955549089, 40.37100786185809, 37.2265493404879, 35.6430070600414, 51.51724366536541, 64.40611475815989, 25.313362746608384, 40.83633737631425, 23.802345169468335, 28.516679695052936, 28.883477192441276, 20.584318567089316, 663.5188054081054, 129.99539980154944, 53.19621511915386, 62.18400018235973, 92.39270692181199, 487.4803606311542, 59.60613796160021, 73.01165820221328, 577.5641468384432, 647.0451962431346, 61.355380510984055, 236.98920384271833, 136.38439112819998, 183.5825427398058, 5618.208351392712, 177.86509538899023, 659.4062052910771, 1417.3826966939407, 2570.9891643759147, 300.5202004340367, 553.4271469308536, 89.28425992214018, 283.71532380704934, 221.05687616826256, 320.0590738923041, 253.2640142613644, 237.32431203273563, 673.4072572863946, 170.07367499669851, 329.6021120603782, 282.54808390020213, 373.89368952238254, 394.30043496550854, 337.01016962205716, 118.69396199990751, 103.8017056747086, 77.6494824425428, 65.44313931641216, 63.96401218144257, 59.18701824481697, 56.48321560150571, 49.73248341342972, 51.466720435063664, 48.402252009718794, 48.40223476808882, 49.70534674725396, 47.354786993744185, 60.8833507277591, 47.13419171973345, 42.96317568363746, 46.846868885422595, 41.717194466302935, 40.78258341370417, 40.4132500077294, 38.37339141468668, 48.29965622846163, 37.274394842144545, 39.860491241361245, 33.6004278297577, 32.746884244502354, 35.77146687118406, 30.34533720704858, 43.968119481864186, 27.20904967756704, 192.76491732305593, 77.07026591438297, 105.65115121851137, 53.351165138428314, 152.01977335174345, 142.3063796165797, 52.088534506488045, 2570.9891643759147, 237.09595230683027, 339.410271118879, 80.7595299209751, 165.75915442969972, 77.91215312377362, 248.71763271959736, 1417.3826966939407, 78.8194803605434, 283.71532380704934, 246.43655905304416, 5618.208351392712, 194.58529355769792, 196.41907708991727, 152.3485001993497, 439.82028024602494, 152.4761101229521, 212.9806470005298, 647.0451962431346, 868.4881314322097, 673.4072572863946, 553.4271469308536, 659.4062052910771, 254.37113144561866, 192.59260953652878, 577.5641468384432], \"Category\": [\"Default\", \"Default\", \"Default\", \"Default\", \"Default\", \"Default\", \"Default\", \"Default\", \"Default\", \"Default\", \"Default\", \"Default\", \"Default\", \"Default\", \"Default\", \"Default\", \"Default\", \"Default\", \"Default\", \"Default\", \"Default\", \"Default\", \"Default\", \"Default\", \"Default\", \"Default\", \"Default\", \"Default\", \"Default\", \"Default\", \"Topic1\", \"Topic1\", \"Topic1\", \"Topic1\", \"Topic1\", \"Topic1\", \"Topic1\", \"Topic1\", \"Topic1\", \"Topic1\", \"Topic1\", \"Topic1\", \"Topic1\", \"Topic1\", \"Topic1\", \"Topic1\", \"Topic1\", \"Topic1\", \"Topic1\", \"Topic1\", \"Topic1\", \"Topic1\", \"Topic1\", \"Topic1\", \"Topic1\", \"Topic1\", \"Topic1\", \"Topic1\", \"Topic1\", \"Topic1\", \"Topic1\", \"Topic1\", \"Topic1\", \"Topic1\", \"Topic1\", \"Topic1\", \"Topic1\", \"Topic1\", \"Topic1\", \"Topic1\", \"Topic1\", \"Topic1\", \"Topic1\", \"Topic1\", \"Topic1\", \"Topic1\", \"Topic1\", \"Topic1\", \"Topic1\", \"Topic1\", \"Topic1\", \"Topic1\", \"Topic1\", \"Topic1\", \"Topic1\", \"Topic1\", \"Topic1\", \"Topic1\", \"Topic1\", \"Topic1\", \"Topic1\", \"Topic1\", \"Topic1\", \"Topic1\", \"Topic2\", \"Topic2\", \"Topic2\", \"Topic2\", \"Topic2\", \"Topic2\", \"Topic2\", \"Topic2\", \"Topic2\", \"Topic2\", \"Topic2\", \"Topic2\", \"Topic2\", \"Topic2\", \"Topic2\", \"Topic2\", \"Topic2\", \"Topic2\", \"Topic2\", \"Topic2\", \"Topic2\", \"Topic2\", \"Topic2\", \"Topic2\", \"Topic2\", \"Topic2\", \"Topic2\", \"Topic2\", \"Topic2\", \"Topic2\", \"Topic2\", \"Topic2\", \"Topic2\", \"Topic2\", \"Topic2\", \"Topic2\", \"Topic2\", \"Topic2\", \"Topic2\", \"Topic2\", \"Topic2\", \"Topic2\", \"Topic2\", \"Topic2\", \"Topic2\", \"Topic2\", \"Topic2\", \"Topic2\", \"Topic2\", \"Topic2\", \"Topic2\", \"Topic2\", \"Topic2\", \"Topic2\", \"Topic2\", \"Topic2\", \"Topic2\", \"Topic2\", \"Topic2\", \"Topic2\", \"Topic2\", \"Topic2\", \"Topic2\", \"Topic2\", \"Topic3\", \"Topic3\", \"Topic3\", \"Topic3\", \"Topic3\", \"Topic3\", \"Topic3\", \"Topic3\", \"Topic3\", \"Topic3\", \"Topic3\", \"Topic3\", \"Topic3\", \"Topic3\", \"Topic3\", \"Topic3\", \"Topic3\", \"Topic3\", \"Topic3\", \"Topic3\", \"Topic3\", \"Topic3\", \"Topic3\", \"Topic3\", \"Topic3\", \"Topic3\", \"Topic3\", \"Topic3\", \"Topic3\", \"Topic3\", \"Topic3\", \"Topic3\", \"Topic3\", \"Topic3\", \"Topic3\", \"Topic3\", \"Topic3\", \"Topic3\", \"Topic3\", \"Topic3\", \"Topic3\", \"Topic3\", \"Topic3\", \"Topic3\", \"Topic3\", \"Topic3\", \"Topic3\", \"Topic3\", \"Topic3\", \"Topic3\", \"Topic3\", \"Topic3\", \"Topic3\", \"Topic3\", \"Topic3\", \"Topic3\", \"Topic3\", \"Topic3\", \"Topic3\", \"Topic3\", \"Topic3\", \"Topic3\", \"Topic3\"], \"logprob\": [30.0, 29.0, 28.0, 27.0, 26.0, 25.0, 24.0, 23.0, 22.0, 21.0, 20.0, 19.0, 18.0, 17.0, 16.0, 15.0, 14.0, 13.0, 12.0, 11.0, 10.0, 9.0, 8.0, 7.0, 6.0, 5.0, 4.0, 3.0, 2.0, 1.0, -5.3566, -5.5901, -5.9985, -6.0455, -6.2484, -6.298, -6.542, -6.5908, -6.2563, -6.6596, -6.7792, -6.529, -6.9147, -6.9059, -6.9753, -6.9333, -6.9866, -6.7377, -7.1418, -7.1925, -6.3087, -7.0825, -6.8964, -7.3772, -7.3403, -7.42, -7.1331, -7.2902, -7.4387, -7.4364, -6.5974, -6.6502, -5.3186, -5.2655, -6.7529, -6.7545, -5.7092, -4.9034, -5.2551, -5.7862, -4.4606, -2.8465, -5.1125, -5.1262, -5.858, -5.6127, -5.8912, -6.3318, -5.2817, -5.6502, -5.2988, -5.4212, -5.5632, -5.9685, -5.0361, -5.4655, -5.5905, -4.726, -5.8459, -5.4195, -4.8048, -5.6216, -5.8049, -5.8601, -4.7825, -4.4879, -5.4161, -5.8157, -6.4337, -6.4638, -6.1236, -6.6941, -6.6797, -6.7418, -6.2953, -6.9738, -6.9738, -6.9738, -6.9738, -6.9213, -7.0199, -7.006, -6.6331, -7.0063, -7.0875, -7.1335, -6.7671, -6.5439, -7.4812, -7.0033, -7.5441, -7.3634, -7.3511, -7.6931, -4.2264, -5.8554, -6.7449, -6.5906, -6.2033, -4.6405, -6.6405, -6.4562, -4.5641, -4.4774, -6.6227, -5.438, -5.9588, -5.8001, -3.2018, -5.8786, -5.0171, -4.526, -4.1421, -5.5719, -5.2474, -6.405, -5.76, -5.9408, -5.7652, -5.9116, -5.9493, -5.4857, -6.1164, -5.874, -5.9476, -5.8553, -5.9817, -6.0563, -5.8109, -5.9453, -6.2372, -6.4096, -6.4327, -6.5114, -6.5589, -6.6869, -6.6526, -6.7143, -6.7143, -6.688, -6.7366, -6.4856, -6.7418, -6.8353, -6.7487, -6.8649, -6.8879, -6.8977, -6.9497, -6.72, -6.98, -6.9134, -7.0852, -7.111, -7.0227, -7.1897, -6.8202, -7.3023, -5.3508, -6.2657, -5.9574, -6.6323, -5.6224, -5.6935, -6.676, -3.3241, -5.3989, -5.1228, -6.3179, -5.7801, -6.3944, -5.5466, -4.4725, -6.4192, -5.644, -5.8262, -4.1743, -5.9714, -5.9729, -6.1322, -5.6335, -6.1373, -6.0445, -5.6385, -5.5362, -5.7121, -5.7818, -5.7723, -6.0676, -6.2054, -6.1501], \"loglift\": [30.0, 29.0, 28.0, 27.0, 26.0, 25.0, 24.0, 23.0, 22.0, 21.0, 20.0, 19.0, 18.0, 17.0, 16.0, 15.0, 14.0, 13.0, 12.0, 11.0, 10.0, 9.0, 8.0, 7.0, 6.0, 5.0, 4.0, 3.0, 2.0, 1.0, 0.9121, 0.912, 0.911, 0.9109, 0.9099, 0.9086, 0.9078, 0.9075, 0.907, 0.9061, 0.9059, 0.9057, 0.9048, 0.9048, 0.903, 0.9023, 0.9022, 0.9016, 0.9013, 0.9011, 0.901, 0.8992, 0.8991, 0.8986, 0.8983, 0.8979, 0.8979, 0.8977, 0.8976, 0.8972, 0.8971, 0.8964, 0.8782, 0.8573, 0.8822, 0.88, 0.8364, 0.7407, 0.7671, 0.7622, 0.6139, 0.361, 0.6619, 0.6624, 0.7579, 0.7028, 0.7396, 0.8046, 0.5824, 0.6203, 0.456, 0.496, 0.5348, 0.6702, 0.2927, 0.4611, 0.5027, -0.1413, 0.4755, -0.0696, -0.8157, -0.0965, 0.2678, 0.161, 1.151, 1.1505, 1.1496, 1.1473, 1.1437, 1.1434, 1.1425, 1.1419, 1.1413, 1.1405, 1.1404, 1.1385, 1.1385, 1.1385, 1.1385, 1.1381, 1.1378, 1.1376, 1.1372, 1.1368, 1.1367, 1.1342, 1.1322, 1.1321, 1.1287, 1.1284, 1.1273, 1.1273, 1.1269, 1.1236, 1.1172, 1.1183, 1.1223, 1.1206, 1.1119, 1.0115, 1.113, 1.0944, 0.9183, 0.8914, 1.1018, 0.9352, 0.967, 0.8284, 0.0057, 0.7816, 0.3328, 0.0587, -0.1529, 0.5638, 0.2777, 0.9444, 0.4332, 0.502, 0.3076, 0.3952, 0.4225, -0.1568, 0.5886, 0.1694, 0.2498, 0.062, -0.1176, -0.0352, 1.2538, 1.2534, 1.2518, 1.2505, 1.2502, 1.2491, 1.2484, 1.2477, 1.2476, 1.2474, 1.2474, 1.2471, 1.2469, 1.2467, 1.2464, 1.2456, 1.2456, 1.2454, 1.2451, 1.2444, 1.2442, 1.2438, 1.2429, 1.2425, 1.2415, 1.2414, 1.2413, 1.2388, 1.2376, 1.2354, 1.229, 1.2308, 1.2236, 1.2321, 1.1948, 1.1897, 1.2123, 0.6651, 0.9739, 0.8912, 1.1319, 0.9506, 1.0912, 0.7783, 0.1121, 1.0549, 0.5493, 0.5079, -0.9669, 0.5989, 0.588, 0.6829, 0.1213, 0.6769, 0.4355, -0.2697, -0.4617, -0.3832, -0.2567, -0.4224, 0.2348, 0.3753, -0.6677]}, \"token.table\": {\"Topic\": [2, 1, 1, 2, 3, 1, 2, 3, 1, 2, 3, 1, 2, 3, 1, 3, 1, 3, 1, 2, 1, 2, 2, 2, 1, 2, 2, 1, 2, 3, 1, 2, 2, 2, 3, 2, 2, 1, 2, 1, 3, 1, 2, 2, 3, 1, 2, 3, 1, 2, 3, 1, 2, 3, 1, 2, 3, 1, 2, 3, 1, 2, 3, 1, 2, 3, 3, 1, 2, 3, 1, 2, 3, 2, 1, 2, 3, 3, 2, 3, 1, 3, 1, 2, 3, 3, 2, 3, 1, 3, 2, 2, 3, 1, 3, 1, 2, 3, 1, 2, 3, 3, 1, 1, 2, 3, 3, 3, 1, 3, 2, 3, 1, 2, 3, 1, 2, 3, 1, 2, 3, 3, 3, 2, 1, 1, 1, 2, 3, 1, 2, 3, 2, 3, 3, 1, 2, 1, 2, 3, 1, 1, 2, 3, 1, 2, 3, 1, 3, 1, 2, 3, 1, 1, 2, 3, 1, 2, 3, 1, 2, 3, 1, 1, 2, 3, 1, 1, 1, 2, 3, 2, 3, 1, 2, 3, 1, 2, 3, 3, 1, 1, 2, 3, 3, 2, 1, 2, 3, 3, 1, 2, 3, 3, 1, 2, 3, 3, 1, 2, 3, 2, 1, 2, 3, 1, 3, 3, 1, 2, 3, 1, 2, 2, 3, 2, 2, 1, 2, 1, 2, 3, 3, 1, 2, 1, 2, 3, 1, 2, 3, 1, 2, 3, 1, 2, 3, 1, 3, 1, 2, 1, 1, 2, 3, 1, 2, 3, 1, 2, 3, 1, 3, 1, 2, 3, 1, 2, 3, 1, 2, 3, 2, 3, 1, 3, 1, 1, 2, 1, 3, 1, 2, 3, 1, 2, 3, 1, 2, 3, 1, 2, 1, 2, 3, 1, 2, 3, 3, 2, 1, 1, 2, 3, 3, 3, 1, 1, 2, 3, 1, 2, 3, 1, 2, 3, 1, 2, 3, 2, 2, 3, 2, 3, 1, 2, 3, 1, 2, 3, 1, 2, 3, 1, 2, 3], \"Freq\": [0.9838670589767092, 0.9906476173423614, 0.011244477145029541, 0.6915353444193169, 0.29797864434328286, 0.7760859789597501, 0.1834385041177591, 0.03998018679489622, 0.962120262344441, 0.028297654774836502, 0.007074413693709126, 0.9735737175592668, 0.9847907579379978, 0.9932286360183668, 0.018743733101335962, 0.9746741212694701, 0.9978981682836124, 0.9909316072382632, 0.03247009531324558, 0.9632794942929522, 0.19410166899640136, 0.8059438864850578, 0.9976154111066028, 0.9939143072752783, 0.9915695330621513, 0.9847907535017232, 0.9694123672660686, 0.013909383845604114, 0.7696525727900944, 0.2163681931538418, 0.01941097638094895, 0.9705488190474475, 0.9847907546223745, 0.05920282474817137, 0.9340890126933705, 0.9819597976411407, 0.9876206591062118, 0.9899726034076783, 0.9912809182149359, 0.9883364009432496, 0.9784124275802112, 0.9810775777395313, 0.9908100421191463, 0.9896217757721122, 0.017062444409864003, 0.6320763559254099, 0.04774677508789068, 0.3205854898758374, 0.06406214825233893, 0.791254101386997, 0.14543839062693162, 0.8085645725403028, 0.17525537532893262, 0.015932306848084783, 0.2107045154871521, 0.27237412977607467, 0.5190525869317649, 0.5745603932968778, 0.3175389534205793, 0.10786356825833579, 0.17697468597089452, 0.2711018815861835, 0.5519276470169215, 0.030770319612127714, 0.969265067782023, 0.0076925799030319285, 0.9914449700435818, 0.983427804569133, 0.9450545529167057, 0.05478577118357714, 0.7767284415071276, 0.1808502042912118, 0.04173466252874118, 0.9872122513985145, 0.03692456446182756, 0.8677272648529477, 0.09436277584689265, 0.9937958931416773, 0.9716134121620359, 0.988619760436593, 0.9889020280058817, 0.9784334572031341, 0.8614561346198656, 0.002970538395240916, 0.1336742277858412, 0.985491095394716, 0.9892936810891831, 0.010305142511345657, 0.982248798781531, 0.013642344427521264, 0.9847907588784437, 0.9889705133796111, 0.012209512510859397, 0.9958640531266026, 0.003801007836361079, 0.8960454609988071, 0.018101928505026406, 0.09050964252513204, 0.4425659233818896, 0.5557030767276359, 0.003327563333698418, 0.9852715295284868, 0.9743151054902617, 0.5360797587105148, 0.27026735757704623, 0.19304811255503304, 0.97758136663989, 0.9819226149885523, 0.9681223925634164, 0.02978838130964358, 0.978167992846025, 0.01552647607692103, 0.657941032153402, 0.336994187200523, 0.0053491140825479835, 0.15084330247835875, 0.2951282005011367, 0.5574643787243693, 0.0160813070414804, 0.9648784224888239, 0.0160813070414804, 0.9828081807638754, 0.9922765655005615, 0.9795537358243276, 0.9879634305498629, 0.9861991451778643, 0.12173518456546319, 0.405783948551544, 0.470709380319791, 0.1266898354558531, 0.13875553407069624, 0.7360076155054323, 0.02274375187714081, 0.9779813307170548, 0.9925078959009771, 0.998425502461175, 0.981881491794342, 0.984089341214632, 0.012948543963350422, 0.012948543963350422, 0.9904237672656435, 0.47179585167507515, 0.3056287592612122, 0.22551248256167114, 0.4095847540420797, 0.3731772203494504, 0.2154112410147234, 0.43321726117184134, 0.5644952191027023, 0.8405679512221755, 0.010176367448210356, 0.15061023823351327, 0.9906382275887679, 0.33805888475782914, 0.22067732755024957, 0.436659392812196, 0.6450500124143841, 0.1602608726495364, 0.1963195689956821, 0.7463240488482294, 0.05330886063201639, 0.20181211524977635, 0.9948665842736462, 0.00733221735807003, 0.8285405614619133, 0.16130878187754064, 0.9900478564473426, 0.9857791552591391, 0.351411945591897, 0.4698654103981544, 0.1776801972093861, 0.9645544252605773, 0.034663674657802, 0.01120018243833845, 0.8176133179987068, 0.1792029190134152, 0.01175960947535722, 0.5703410595548252, 0.4233459411128599, 0.989774393109924, 0.9991857770651354, 0.3631914356111508, 0.41739911256803897, 0.2204445529580119, 0.9926385165122976, 0.9855902668882524, 0.16204577374364773, 0.14436805297161343, 0.6923773969046767, 0.9916893947488636, 0.007027091847142269, 0.06324382662428042, 0.9346032156699218, 0.9849288350032199, 0.7403670548032005, 0.08175126110579664, 0.17847106297744336, 0.997152985659935, 0.4836597412404633, 0.005091155170952245, 0.5091155170952245, 0.9802616598931821, 0.018798329876667096, 0.9775131535866891, 0.018798329876667096, 0.9955527122670244, 0.9916897480040734, 0.9808108425656724, 0.8552012410280477, 0.11832973146300031, 0.026893120787045525, 0.03355359143195036, 0.9562773558105853, 0.99776367262414, 0.00202386140491712, 0.9662913396240671, 0.9969772140572113, 0.2778041922661625, 0.7244697563019531, 0.7814061045146484, 0.21461153574698089, 0.9916357144682401, 0.9858094391567054, 0.8596712914766994, 0.140764889832442, 0.6633770028354552, 0.2423877510360317, 0.09567937540895988, 0.3530768920138783, 0.23365382559741946, 0.4153845788398568, 0.9838020477704658, 0.009740614334361047, 0.009740614334361047, 0.4442328001523159, 0.1965631859081044, 0.35774499835275, 0.9948700691045038, 0.009297851113126204, 0.9797771822300647, 0.017496021111251155, 0.9872112049605467, 0.2064685222525416, 0.4803553374855049, 0.31180960503445054, 0.019198082830981584, 0.019198082830981584, 0.9599041415490792, 0.012975172566692526, 0.012975172566692526, 0.9731379425019394, 0.11144195624722791, 0.879153210394798, 0.3799927034889494, 0.5202281059670141, 0.09952189853282008, 0.009465112196759365, 0.01893022439351873, 0.9654414440694552, 0.5167262081011605, 0.4070103693947497, 0.07786285327551734, 0.17762106443686126, 0.811982008854223, 0.1540196172083248, 0.8471078946457864, 0.9871497173198834, 0.9687217513615242, 0.029806823118816127, 0.9796143985481436, 0.9902695226843106, 0.0211479588747223, 0.4864030541186129, 0.4899277139310666, 0.9224937909135439, 0.050135532114866516, 0.025067766057433258, 0.6824938063678039, 0.16341400997538966, 0.15380142115330792, 0.048895467276303985, 0.945312367341877, 0.6344219177846017, 0.2240724220260508, 0.14038272223318846, 0.5249030997837915, 0.42804598018082995, 0.04686634819498138, 0.982130351649096, 0.9923731579128889, 0.9843980796762376, 0.7177268268160938, 0.2815112288925315, 0.0025361371972300135, 0.9771922043353561, 0.9968402151288751, 0.9879067291987179, 0.8406814736264447, 0.15285117702298995, 0.005458970607963927, 0.02108850847664159, 0.22775589154772916, 0.7507509017684406, 0.3478241981858022, 0.3351247345603571, 0.3174865906361278, 0.03618561298445029, 0.3457736351847472, 0.6191760444005938, 0.9847972956696389, 0.9974784526869056, 0.9923169063218186, 0.9795197750325342, 0.024487994375813355, 0.9877425759865909, 0.014965796605857437, 0.9941533504466886, 0.010375331921255088, 0.015562997881882631, 0.9700935346373507, 0.9427535308476612, 0.04598797711452006, 0.009854566524540012, 0.37306291330911867, 0.4397896132505871, 0.18653145665455934], \"Term\": [\"384\", \"affect\", \"american\", \"american\", \"american\", \"amp\", \"amp\", \"amp\", \"another\", \"another\", \"another\", \"anthony\", \"appendage\", \"approach\", \"area\", \"area\", \"aside\", \"attention\", \"better\", \"better\", \"biden\", \"biden\", \"bill\", \"bipartisan\", \"birthday\", \"cadre\", \"calling\", \"case\", \"case\", \"case\", \"cdc\", \"cdc\", \"chained\", \"check\", \"check\", \"chris\", \"christie\", \"civilian\", \"claim\", \"clot\", \"common\", \"concert\", \"conference\", \"confirmed\", \"confirmed\", \"corona\", \"corona\", \"corona\", \"coronavirus\", \"coronavirus\", \"coronavirus\", \"could\", \"could\", \"could\", \"country\", \"country\", \"country\", \"covid\", \"covid\", \"covid\", \"covid19\", \"covid19\", \"covid19\", \"credit\", \"credit\", \"credit\", \"crime\", \"cry\", \"daily\", \"daily\", \"day\", \"day\", \"day\", \"dead\", \"death\", \"death\", \"death\", \"despite\", \"diego\", \"distancing\", \"donald\", \"drive\", \"due\", \"due\", \"due\", \"duke\", \"economy\", \"economy\", \"effect\", \"effect\", \"enriched\", \"fake\", \"fake\", \"fauci\", \"fauci\", \"feel\", \"feel\", \"feel\", \"first\", \"first\", \"first\", \"frustrates\", \"fucking\", \"get\", \"get\", \"get\", \"glass\", \"global\", \"gon\", \"gon\", \"gop\", \"gop\", \"got\", \"got\", \"got\", \"government\", \"government\", \"government\", \"governor\", \"governor\", \"governor\", \"greedy\", \"group\", \"half\", \"happy\", \"he\", \"health\", \"health\", \"health\", \"home\", \"home\", \"home\", \"impact\", \"impact\", \"irs\", \"issue\", \"it\\u2026\", \"ive\", \"ive\", \"ive\", \"kill\", \"know\", \"know\", \"know\", \"last\", \"last\", \"last\", \"life\", \"life\", \"like\", \"like\", \"like\", \"line\", \"lockdown\", \"lockdown\", \"lockdown\", \"many\", \"many\", \"many\", \"mask\", \"mask\", \"mask\", \"military\", \"million\", \"million\", \"million\", \"mother\", \"myanmar\", \"need\", \"need\", \"need\", \"new\", \"new\", \"nothing\", \"nothing\", \"nothing\", \"number\", \"number\", \"number\", \"nursing\", \"obsession\", \"one\", \"one\", \"one\", \"ordered\", \"package\", \"pandemic\", \"pandemic\", \"pandemic\", \"patchwork\", \"patient\", \"patient\", \"patient\", \"payment\", \"people\", \"people\", \"people\", \"pharmacy\", \"police\", \"police\", \"police\", \"pover\\u2026\", \"press\", \"press\", \"press\", \"pushed\", \"quilt\", \"ravage\", \"really\", \"really\", \"really\", \"received\", \"received\", \"relief\", \"relief\", \"rep\", \"reported\", \"republican\", \"republican\", \"right\", \"right\", \"rollout\", \"safety\", \"said\", \"said\", \"say\", \"say\", \"say\", \"school\", \"school\", \"school\", \"second\", \"second\", \"second\", \"see\", \"see\", \"see\", \"seen\", \"seen\", \"shit\", \"shit\", \"side\", \"since\", \"since\", \"since\", \"site\", \"site\", \"site\", \"social\", \"social\", \"social\", \"spike\", \"spike\", \"state\", \"state\", \"state\", \"stay\", \"stay\", \"stay\", \"still\", \"still\", \"still\", \"stimulus\", \"stimulus\", \"student\", \"student\", \"supporter\", \"surge\", \"surge\", \"suspends\", \"syndicate\\u2026\", \"take\", \"take\", \"take\", \"thing\", \"thing\", \"thing\", \"think\", \"think\", \"think\", \"though\", \"though\", \"time\", \"time\", \"time\", \"today\", \"today\", \"today\", \"tool\", \"trillion\", \"trip\", \"trump\", \"trump\", \"trump\", \"undergrad\", \"university\", \"urge\", \"vaccinated\", \"vaccinated\", \"vaccinated\", \"vaccination\", \"vaccination\", \"vaccination\", \"vaccine\", \"vaccine\", \"vaccine\", \"via\", \"via\", \"via\", \"vote\", \"voted\", \"warning\", \"white\", \"white\", \"wish\", \"wish\", \"worker\", \"world\", \"world\", \"world\", \"would\", \"would\", \"would\", \"year\", \"year\", \"year\"]}, \"R\": 30, \"lambda.step\": 0.01, \"plot.opts\": {\"xlab\": \"PC1\", \"ylab\": \"PC2\"}, \"topic.order\": [2, 3, 1]};\n",
       "\n",
       "function LDAvis_load_lib(url, callback){\n",
       "  var s = document.createElement('script');\n",
       "  s.src = url;\n",
       "  s.async = true;\n",
       "  s.onreadystatechange = s.onload = callback;\n",
       "  s.onerror = function(){console.warn(\"failed to load library \" + url);};\n",
       "  document.getElementsByTagName(\"head\")[0].appendChild(s);\n",
       "}\n",
       "\n",
       "if(typeof(LDAvis) !== \"undefined\"){\n",
       "   // already loaded: just create the visualization\n",
       "   !function(LDAvis){\n",
       "       new LDAvis(\"#\" + \"ldavis_el129701403098414182726517000237\", ldavis_el129701403098414182726517000237_data);\n",
       "   }(LDAvis);\n",
       "}else if(typeof define === \"function\" && define.amd){\n",
       "   // require.js is available: use it to load d3/LDAvis\n",
       "   require.config({paths: {d3: \"https://d3js.org/d3.v5\"}});\n",
       "   require([\"d3\"], function(d3){\n",
       "      window.d3 = d3;\n",
       "      LDAvis_load_lib(\"https://cdn.jsdelivr.net/gh/bmabey/pyLDAvis@3.2.2/pyLDAvis/js/ldavis.v3.0.0.js\", function(){\n",
       "        new LDAvis(\"#\" + \"ldavis_el129701403098414182726517000237\", ldavis_el129701403098414182726517000237_data);\n",
       "      });\n",
       "    });\n",
       "}else{\n",
       "    // require.js not available: dynamically load d3 & LDAvis\n",
       "    LDAvis_load_lib(\"https://d3js.org/d3.v5.js\", function(){\n",
       "         LDAvis_load_lib(\"https://cdn.jsdelivr.net/gh/bmabey/pyLDAvis@3.2.2/pyLDAvis/js/ldavis.v3.0.0.js\", function(){\n",
       "                 new LDAvis(\"#\" + \"ldavis_el129701403098414182726517000237\", ldavis_el129701403098414182726517000237_data);\n",
       "            })\n",
       "         });\n",
       "}\n",
       "</script>"
      ],
      "text/plain": [
       "PreparedData(topic_coordinates=              x         y  topics  cluster       Freq\n",
       "topic                                                \n",
       "1      0.130920  0.072609       1        1  40.041393\n",
       "2      0.003099 -0.140294       2        1  31.579172\n",
       "0     -0.134020  0.067685       3        1  28.379435, topic_info=            Term         Freq        Total Category  logprob  loglift\n",
       "40           new   663.000000   663.000000  Default  30.0000  30.0000\n",
       "0        covid19  2570.000000  2570.000000  Default  29.0000  29.0000\n",
       "94        relief   494.000000   494.000000  Default  28.0000  28.0000\n",
       "268         bill   367.000000   367.000000  Default  27.0000  27.0000\n",
       "151         case   647.000000   647.000000  Default  26.0000  26.0000\n",
       "..           ...          ...          ...      ...      ...      ...\n",
       "294          one   121.504401   553.427147   Topic3  -5.7818  -0.2567\n",
       "208         year   122.656536   659.406205   Topic3  -5.7723  -0.4224\n",
       "880          see    91.294167   254.371131   Topic3  -6.0676   0.2348\n",
       "765       school    79.547781   192.592610   Topic3  -6.2054   0.3753\n",
       "37   coronavirus    84.067147   577.564147   Topic3  -6.1501  -0.6677\n",
       "\n",
       "[221 rows x 6 columns], token_table=      Topic      Freq      Term\n",
       "term                           \n",
       "2448      2  0.983867       384\n",
       "6211      1  0.990648    affect\n",
       "267       1  0.011244  american\n",
       "267       2  0.691535  american\n",
       "267       3  0.297979  american\n",
       "...     ...       ...       ...\n",
       "991       2  0.045988     would\n",
       "991       3  0.009855     would\n",
       "208       1  0.373063      year\n",
       "208       2  0.439790      year\n",
       "208       3  0.186531      year\n",
       "\n",
       "[326 rows x 3 columns], R=30, lambda_step=0.01, plot_opts={'xlab': 'PC1', 'ylab': 'PC2'}, topic_order=[2, 3, 1])"
      ]
     },
     "execution_count": 96,
     "metadata": {},
     "output_type": "execute_result"
    }
   ],
   "source": [
    "plot_lda_vis(lda_model, bow_corpus, dic)"
   ]
  },
  {
   "cell_type": "code",
   "execution_count": 97,
   "metadata": {},
   "outputs": [
    {
     "name": "stderr",
     "output_type": "stream",
     "text": [
      "/Users/akhilranjan/opt/anaconda3/lib/python3.8/site-packages/ipykernel/ipkernel.py:287: DeprecationWarning: `should_run_async` will not call `transform_cell` automatically in the future. Please pass the result to `transformed_cell` argument and any exception that happen during thetransform in `preprocessing_exc_tuple` in IPython 7.17 and above.\n",
      "  and should_run_async(code)\n"
     ]
    },
    {
     "data": {
      "image/png": "[encoded data removed]",
      "text/plain": [
       "<Figure size 864x864 with 1 Axes>"
      ]
     },
     "metadata": {
      "needs_background": "light"
     },
     "output_type": "display_data"
    }
   ],
   "source": [
    "from wordcloud import WordCloud, STOPWORDS\n",
    "stopwords = set(STOPWORDS)\n",
    "\n",
    "def show_wordcloud(data):\n",
    "    wordcloud = WordCloud(\n",
    "        background_color='white',\n",
    "        stopwords=stopwords,\n",
    "        max_words=100,\n",
    "        max_font_size=30,\n",
    "        scale=3,\n",
    "        random_state=1)\n",
    "   \n",
    "    wordcloud=wordcloud.generate(str(data))\n",
    "\n",
    "    fig = plt.figure(1, figsize=(12, 12))\n",
    "    plt.axis('off')\n",
    "\n",
    "    plt.imshow(wordcloud)\n",
    "    plt.show()\n",
    "\n",
    "show_wordcloud(corpus)"
   ]
  }
 ],
 "metadata": {
  "kernelspec": {
   "display_name": "Python 3",
   "language": "python",
   "name": "python3"
  },
  "language_info": {
   "codemirror_mode": {
    "name": "ipython",
    "version": 3
   },
   "file_extension": ".py",
   "mimetype": "text/x-python",
   "name": "python",
   "nbconvert_exporter": "python",
   "pygments_lexer": "ipython3",
   "version": "3.8.5"
  }
 },
 "nbformat": 4,
 "nbformat_minor": 4
}
